{
 "cells": [
  {
   "cell_type": "markdown",
   "metadata": {},
   "source": [
    "# Marc PROJECT aims "
   ]
  },
  {
   "cell_type": "code",
   "execution_count": 1,
   "metadata": {
    "execution": {
     "iopub.execute_input": "2023-05-25T19:48:16.692932Z",
     "iopub.status.busy": "2023-05-25T19:48:16.691788Z",
     "iopub.status.idle": "2023-05-25T19:48:18.569973Z",
     "shell.execute_reply": "2023-05-25T19:48:18.568404Z",
     "shell.execute_reply.started": "2023-05-25T19:48:16.692892Z"
    }
   },
   "outputs": [],
   "source": [
    "import numpy as np # linear algebra\n",
    "import pandas as pd # data processing, CSV file I/O (e.g. pd.read_csv)\n",
    "import random\n",
    "import matplotlib.pyplot as plt\n",
    "import re\n",
    "import string\n",
    "import nltk\n",
    "import pandas as pd\n",
    "import numpy as np\n",
    "from pathlib import Path\n",
    "from nltk.tokenize import word_tokenize\n",
    "from nltk.tokenize import sent_tokenize\n",
    "from nltk import ngrams\n",
    "from collections import Counter, defaultdict\n",
    "import random\n",
    "from datetime import datetime"
   ]
  },
  {
   "cell_type": "code",
   "execution_count": null,
   "metadata": {},
   "outputs": [],
   "source": [
    "import nltk\n",
    "import sklearn\n",
    "from nltk.corpus import stopwords\n",
    "from sklearn.feature_extraction.text import CountVectorizer\n",
    "#from sklearn.feature_extraction.text import TfidfVectorizer\n",
    "from sklearn.decomposition import LatentDirichletAllocation\n",
    "import pyLDAvis.sklearn\n",
    "import warnings\n",
    "warnings.filterwarnings(\"ignore\")"
   ]
  },
  {
   "cell_type": "code",
   "execution_count": 66,
   "metadata": {
    "execution": {
     "iopub.execute_input": "2023-05-16T00:17:24.108129Z",
     "iopub.status.busy": "2023-05-16T00:17:24.107668Z",
     "iopub.status.idle": "2023-05-16T00:17:24.113132Z",
     "shell.execute_reply": "2023-05-16T00:17:24.111839Z",
     "shell.execute_reply.started": "2023-05-16T00:17:24.108089Z"
    }
   },
   "outputs": [],
   "source": [
    "#PATH_RESULT = \"/content/drive/MyDrive/nlp/lda/result/\"\n",
    "PATH_RESULT = \"/kaggle/input/energyhyperlink/rightdata.csv\""
   ]
  },
  {
   "cell_type": "code",
   "execution_count": 67,
   "metadata": {
    "execution": {
     "iopub.execute_input": "2023-05-16T00:17:36.329093Z",
     "iopub.status.busy": "2023-05-16T00:17:36.328531Z",
     "iopub.status.idle": "2023-05-16T00:17:36.353110Z",
     "shell.execute_reply": "2023-05-16T00:17:36.351702Z",
     "shell.execute_reply.started": "2023-05-16T00:17:36.329038Z"
    }
   },
   "outputs": [],
   "source": [
    "data = pd.read_csv(PATH_RESULT)\n",
    "data = data[[\"sites\",\"texts\"]]"
   ]
  },
  {
   "cell_type": "code",
   "execution_count": 68,
   "metadata": {
    "execution": {
     "iopub.execute_input": "2023-05-16T00:17:43.453214Z",
     "iopub.status.busy": "2023-05-16T00:17:43.451200Z",
     "iopub.status.idle": "2023-05-16T00:17:43.470350Z",
     "shell.execute_reply": "2023-05-16T00:17:43.468926Z",
     "shell.execute_reply.started": "2023-05-16T00:17:43.453140Z"
    }
   },
   "outputs": [
    {
     "data": {
      "text/html": [
       "<div>\n",
       "<style scoped>\n",
       "    .dataframe tbody tr th:only-of-type {\n",
       "        vertical-align: middle;\n",
       "    }\n",
       "\n",
       "    .dataframe tbody tr th {\n",
       "        vertical-align: top;\n",
       "    }\n",
       "\n",
       "    .dataframe thead th {\n",
       "        text-align: right;\n",
       "    }\n",
       "</style>\n",
       "<table border=\"1\" class=\"dataframe\">\n",
       "  <thead>\n",
       "    <tr style=\"text-align: right;\">\n",
       "      <th></th>\n",
       "      <th>sites</th>\n",
       "      <th>texts</th>\n",
       "    </tr>\n",
       "  </thead>\n",
       "  <tbody>\n",
       "    <tr>\n",
       "      <th>0</th>\n",
       "      <td>www.dmr.gov.za</td>\n",
       "      <td>Operating mines tenders multimedia opportuniti...</td>\n",
       "    </tr>\n",
       "    <tr>\n",
       "      <th>1</th>\n",
       "      <td>www.eskom.co.za</td>\n",
       "      <td>Redefining for a better future. Eskom’s just e...</td>\n",
       "    </tr>\n",
       "    <tr>\n",
       "      <th>2</th>\n",
       "      <td>www.eskom.co.za</td>\n",
       "      <td>Redefining for a better future. World bank app...</td>\n",
       "    </tr>\n",
       "    <tr>\n",
       "      <th>3</th>\n",
       "      <td>www.eskom.co.za</td>\n",
       "      <td>Redefining for a better future. Exxaro and ser...</td>\n",
       "    </tr>\n",
       "    <tr>\n",
       "      <th>4</th>\n",
       "      <td>green-cape.co.za</td>\n",
       "      <td>Electric vehiclesenergyenergy servicesmarket i...</td>\n",
       "    </tr>\n",
       "    <tr>\n",
       "      <th>...</th>\n",
       "      <td>...</td>\n",
       "      <td>...</td>\n",
       "    </tr>\n",
       "    <tr>\n",
       "      <th>68</th>\n",
       "      <td>sawea.org.za</td>\n",
       "      <td>November 2, 2021 in press releases. Sawea anno...</td>\n",
       "    </tr>\n",
       "    <tr>\n",
       "      <th>69</th>\n",
       "      <td>www.h1holdings.co.za</td>\n",
       "      <td>H1 holdings is a black-owned and managed compa...</td>\n",
       "    </tr>\n",
       "    <tr>\n",
       "      <th>70</th>\n",
       "      <td>www.windlab.com</td>\n",
       "      <td>Applying science to develop, construct and ope...</td>\n",
       "    </tr>\n",
       "    <tr>\n",
       "      <th>71</th>\n",
       "      <td>perdekraaleastwind.co.za</td>\n",
       "      <td>nerdekraal east wind farm is operational and c...</td>\n",
       "    </tr>\n",
       "    <tr>\n",
       "      <th>72</th>\n",
       "      <td>kangnaswind.co.za</td>\n",
       "      <td>Kangnas wind farm commenced construction in ju...</td>\n",
       "    </tr>\n",
       "  </tbody>\n",
       "</table>\n",
       "<p>73 rows × 2 columns</p>\n",
       "</div>"
      ],
      "text/plain": [
       "                       sites  \\\n",
       "0             www.dmr.gov.za   \n",
       "1            www.eskom.co.za   \n",
       "2            www.eskom.co.za   \n",
       "3            www.eskom.co.za   \n",
       "4           green-cape.co.za   \n",
       "..                       ...   \n",
       "68              sawea.org.za   \n",
       "69      www.h1holdings.co.za   \n",
       "70           www.windlab.com   \n",
       "71  perdekraaleastwind.co.za   \n",
       "72         kangnaswind.co.za   \n",
       "\n",
       "                                                texts  \n",
       "0   Operating mines tenders multimedia opportuniti...  \n",
       "1   Redefining for a better future. Eskom’s just e...  \n",
       "2   Redefining for a better future. World bank app...  \n",
       "3   Redefining for a better future. Exxaro and ser...  \n",
       "4   Electric vehiclesenergyenergy servicesmarket i...  \n",
       "..                                                ...  \n",
       "68  November 2, 2021 in press releases. Sawea anno...  \n",
       "69  H1 holdings is a black-owned and managed compa...  \n",
       "70  Applying science to develop, construct and ope...  \n",
       "71  nerdekraal east wind farm is operational and c...  \n",
       "72  Kangnas wind farm commenced construction in ju...  \n",
       "\n",
       "[73 rows x 2 columns]"
      ]
     },
     "execution_count": 68,
     "metadata": {},
     "output_type": "execute_result"
    }
   ],
   "source": [
    "data"
   ]
  },
  {
   "cell_type": "code",
   "execution_count": 69,
   "metadata": {
    "execution": {
     "iopub.execute_input": "2023-05-16T00:17:51.083469Z",
     "iopub.status.busy": "2023-05-16T00:17:51.082458Z",
     "iopub.status.idle": "2023-05-16T00:17:51.090855Z",
     "shell.execute_reply": "2023-05-16T00:17:51.089204Z",
     "shell.execute_reply.started": "2023-05-16T00:17:51.083425Z"
    }
   },
   "outputs": [],
   "source": [
    " def clean_data(comment):\n",
    "    \"\"\"\n",
    "     This function clean the data\n",
    "    \"\"\"\n",
    "    # remove URL\n",
    "    comment = re.sub(r'http\\S+', '', comment)\n",
    "    # remove digit and special character\n",
    "    comment = re.sub('[^A-Za-z ]+', '', comment)\n",
    "    # remove number of text\n",
    "    comment = re.sub(r'\\d+', '', comment)\n",
    "    # convert to lower case\n",
    "    comment = comment.lower()\n",
    "    # strip text\n",
    "    comment = comment.strip()\n",
    "    # remove ponctuation\n",
    "    comment = comment.translate(str.maketrans('', '', string.punctuation))\n",
    "    return comment"
   ]
  },
  {
   "cell_type": "code",
   "execution_count": 70,
   "metadata": {
    "execution": {
     "iopub.execute_input": "2023-05-16T00:17:56.674014Z",
     "iopub.status.busy": "2023-05-16T00:17:56.673479Z",
     "iopub.status.idle": "2023-05-16T00:17:56.706383Z",
     "shell.execute_reply": "2023-05-16T00:17:56.704843Z",
     "shell.execute_reply.started": "2023-05-16T00:17:56.673974Z"
    }
   },
   "outputs": [],
   "source": [
    "for i in data.index:\n",
    "    data[\"texts\"][i]=clean_data(data[\"texts\"][i]) "
   ]
  },
  {
   "cell_type": "code",
   "execution_count": 71,
   "metadata": {
    "execution": {
     "iopub.execute_input": "2023-05-16T00:18:01.598954Z",
     "iopub.status.busy": "2023-05-16T00:18:01.598478Z",
     "iopub.status.idle": "2023-05-16T00:18:01.615183Z",
     "shell.execute_reply": "2023-05-16T00:18:01.613658Z",
     "shell.execute_reply.started": "2023-05-16T00:18:01.598915Z"
    },
    "scrolled": true
   },
   "outputs": [
    {
     "data": {
      "text/html": [
       "<div>\n",
       "<style scoped>\n",
       "    .dataframe tbody tr th:only-of-type {\n",
       "        vertical-align: middle;\n",
       "    }\n",
       "\n",
       "    .dataframe tbody tr th {\n",
       "        vertical-align: top;\n",
       "    }\n",
       "\n",
       "    .dataframe thead th {\n",
       "        text-align: right;\n",
       "    }\n",
       "</style>\n",
       "<table border=\"1\" class=\"dataframe\">\n",
       "  <thead>\n",
       "    <tr style=\"text-align: right;\">\n",
       "      <th></th>\n",
       "      <th>sites</th>\n",
       "      <th>texts</th>\n",
       "    </tr>\n",
       "  </thead>\n",
       "  <tbody>\n",
       "    <tr>\n",
       "      <th>0</th>\n",
       "      <td>www.dmr.gov.za</td>\n",
       "      <td>operating mines tenders multimedia opportuniti...</td>\n",
       "    </tr>\n",
       "    <tr>\n",
       "      <th>1</th>\n",
       "      <td>www.eskom.co.za</td>\n",
       "      <td>redefining for a better future eskoms just ene...</td>\n",
       "    </tr>\n",
       "    <tr>\n",
       "      <th>2</th>\n",
       "      <td>www.eskom.co.za</td>\n",
       "      <td>redefining for a better future world bank appr...</td>\n",
       "    </tr>\n",
       "    <tr>\n",
       "      <th>3</th>\n",
       "      <td>www.eskom.co.za</td>\n",
       "      <td>redefining for a better future exxaro and seri...</td>\n",
       "    </tr>\n",
       "    <tr>\n",
       "      <th>4</th>\n",
       "      <td>green-cape.co.za</td>\n",
       "      <td>electric vehiclesenergyenergy servicesmarket i...</td>\n",
       "    </tr>\n",
       "    <tr>\n",
       "      <th>...</th>\n",
       "      <td>...</td>\n",
       "      <td>...</td>\n",
       "    </tr>\n",
       "    <tr>\n",
       "      <th>68</th>\n",
       "      <td>sawea.org.za</td>\n",
       "      <td>november   in press releases sawea announces c...</td>\n",
       "    </tr>\n",
       "    <tr>\n",
       "      <th>69</th>\n",
       "      <td>www.h1holdings.co.za</td>\n",
       "      <td>h holdings is a blackowned and managed company...</td>\n",
       "    </tr>\n",
       "    <tr>\n",
       "      <th>70</th>\n",
       "      <td>www.windlab.com</td>\n",
       "      <td>applying science to develop construct and oper...</td>\n",
       "    </tr>\n",
       "    <tr>\n",
       "      <th>71</th>\n",
       "      <td>perdekraaleastwind.co.za</td>\n",
       "      <td>nerdekraal east wind farm is operational and c...</td>\n",
       "    </tr>\n",
       "    <tr>\n",
       "      <th>72</th>\n",
       "      <td>kangnaswind.co.za</td>\n",
       "      <td>kangnas wind farm commenced construction in ju...</td>\n",
       "    </tr>\n",
       "  </tbody>\n",
       "</table>\n",
       "<p>73 rows × 2 columns</p>\n",
       "</div>"
      ],
      "text/plain": [
       "                       sites  \\\n",
       "0             www.dmr.gov.za   \n",
       "1            www.eskom.co.za   \n",
       "2            www.eskom.co.za   \n",
       "3            www.eskom.co.za   \n",
       "4           green-cape.co.za   \n",
       "..                       ...   \n",
       "68              sawea.org.za   \n",
       "69      www.h1holdings.co.za   \n",
       "70           www.windlab.com   \n",
       "71  perdekraaleastwind.co.za   \n",
       "72         kangnaswind.co.za   \n",
       "\n",
       "                                                texts  \n",
       "0   operating mines tenders multimedia opportuniti...  \n",
       "1   redefining for a better future eskoms just ene...  \n",
       "2   redefining for a better future world bank appr...  \n",
       "3   redefining for a better future exxaro and seri...  \n",
       "4   electric vehiclesenergyenergy servicesmarket i...  \n",
       "..                                                ...  \n",
       "68  november   in press releases sawea announces c...  \n",
       "69  h holdings is a blackowned and managed company...  \n",
       "70  applying science to develop construct and oper...  \n",
       "71  nerdekraal east wind farm is operational and c...  \n",
       "72  kangnas wind farm commenced construction in ju...  \n",
       "\n",
       "[73 rows x 2 columns]"
      ]
     },
     "execution_count": 71,
     "metadata": {},
     "output_type": "execute_result"
    }
   ],
   "source": [
    "data"
   ]
  },
  {
   "cell_type": "markdown",
   "metadata": {},
   "source": [
    "# word tokenization"
   ]
  },
  {
   "cell_type": "code",
   "execution_count": 73,
   "metadata": {
    "execution": {
     "iopub.execute_input": "2023-05-16T00:24:19.245347Z",
     "iopub.status.busy": "2023-05-16T00:24:19.244162Z",
     "iopub.status.idle": "2023-05-16T00:24:19.252495Z",
     "shell.execute_reply": "2023-05-16T00:24:19.251166Z",
     "shell.execute_reply.started": "2023-05-16T00:24:19.245282Z"
    }
   },
   "outputs": [],
   "source": [
    "def word_token_by_sentence(data):\n",
    "  #data = data.lower()\n",
    "    sentences = sent_tokenize(data)\n",
    "    text = []\n",
    "    for sentence in sentences:\n",
    "        sentence = sentence.strip()\n",
    "        sentence_list = word_tokenize(sentence)\n",
    "        text.extend(sentence_list)\n",
    "    return text"
   ]
  },
  {
   "cell_type": "code",
   "execution_count": 74,
   "metadata": {
    "execution": {
     "iopub.execute_input": "2023-05-16T00:24:23.305710Z",
     "iopub.status.busy": "2023-05-16T00:24:23.305254Z",
     "iopub.status.idle": "2023-05-16T00:24:23.466623Z",
     "shell.execute_reply": "2023-05-16T00:24:23.465186Z",
     "shell.execute_reply.started": "2023-05-16T00:24:23.305670Z"
    }
   },
   "outputs": [],
   "source": [
    "for i in data.index:\n",
    "    data[\"texts\"][i]=word_token_by_sentence(data[\"texts\"][i]) "
   ]
  },
  {
   "cell_type": "code",
   "execution_count": 75,
   "metadata": {
    "execution": {
     "iopub.execute_input": "2023-05-16T00:24:34.470278Z",
     "iopub.status.busy": "2023-05-16T00:24:34.469742Z",
     "iopub.status.idle": "2023-05-16T00:24:34.497600Z",
     "shell.execute_reply": "2023-05-16T00:24:34.495667Z",
     "shell.execute_reply.started": "2023-05-16T00:24:34.470239Z"
    }
   },
   "outputs": [
    {
     "data": {
      "text/html": [
       "<div>\n",
       "<style scoped>\n",
       "    .dataframe tbody tr th:only-of-type {\n",
       "        vertical-align: middle;\n",
       "    }\n",
       "\n",
       "    .dataframe tbody tr th {\n",
       "        vertical-align: top;\n",
       "    }\n",
       "\n",
       "    .dataframe thead th {\n",
       "        text-align: right;\n",
       "    }\n",
       "</style>\n",
       "<table border=\"1\" class=\"dataframe\">\n",
       "  <thead>\n",
       "    <tr style=\"text-align: right;\">\n",
       "      <th></th>\n",
       "      <th>sites</th>\n",
       "      <th>texts</th>\n",
       "    </tr>\n",
       "  </thead>\n",
       "  <tbody>\n",
       "    <tr>\n",
       "      <th>0</th>\n",
       "      <td>www.dmr.gov.za</td>\n",
       "      <td>[operating, mines, tenders, multimedia, opport...</td>\n",
       "    </tr>\n",
       "    <tr>\n",
       "      <th>1</th>\n",
       "      <td>www.eskom.co.za</td>\n",
       "      <td>[redefining, for, a, better, future, eskoms, j...</td>\n",
       "    </tr>\n",
       "    <tr>\n",
       "      <th>2</th>\n",
       "      <td>www.eskom.co.za</td>\n",
       "      <td>[redefining, for, a, better, future, world, ba...</td>\n",
       "    </tr>\n",
       "    <tr>\n",
       "      <th>3</th>\n",
       "      <td>www.eskom.co.za</td>\n",
       "      <td>[redefining, for, a, better, future, exxaro, a...</td>\n",
       "    </tr>\n",
       "    <tr>\n",
       "      <th>4</th>\n",
       "      <td>green-cape.co.za</td>\n",
       "      <td>[electric, vehiclesenergyenergy, servicesmarke...</td>\n",
       "    </tr>\n",
       "    <tr>\n",
       "      <th>...</th>\n",
       "      <td>...</td>\n",
       "      <td>...</td>\n",
       "    </tr>\n",
       "    <tr>\n",
       "      <th>68</th>\n",
       "      <td>sawea.org.za</td>\n",
       "      <td>[november, in, press, releases, sawea, announc...</td>\n",
       "    </tr>\n",
       "    <tr>\n",
       "      <th>69</th>\n",
       "      <td>www.h1holdings.co.za</td>\n",
       "      <td>[h, holdings, is, a, blackowned, and, managed,...</td>\n",
       "    </tr>\n",
       "    <tr>\n",
       "      <th>70</th>\n",
       "      <td>www.windlab.com</td>\n",
       "      <td>[applying, science, to, develop, construct, an...</td>\n",
       "    </tr>\n",
       "    <tr>\n",
       "      <th>71</th>\n",
       "      <td>perdekraaleastwind.co.za</td>\n",
       "      <td>[nerdekraal, east, wind, farm, is, operational...</td>\n",
       "    </tr>\n",
       "    <tr>\n",
       "      <th>72</th>\n",
       "      <td>kangnaswind.co.za</td>\n",
       "      <td>[kangnas, wind, farm, commenced, construction,...</td>\n",
       "    </tr>\n",
       "  </tbody>\n",
       "</table>\n",
       "<p>73 rows × 2 columns</p>\n",
       "</div>"
      ],
      "text/plain": [
       "                       sites  \\\n",
       "0             www.dmr.gov.za   \n",
       "1            www.eskom.co.za   \n",
       "2            www.eskom.co.za   \n",
       "3            www.eskom.co.za   \n",
       "4           green-cape.co.za   \n",
       "..                       ...   \n",
       "68              sawea.org.za   \n",
       "69      www.h1holdings.co.za   \n",
       "70           www.windlab.com   \n",
       "71  perdekraaleastwind.co.za   \n",
       "72         kangnaswind.co.za   \n",
       "\n",
       "                                                texts  \n",
       "0   [operating, mines, tenders, multimedia, opport...  \n",
       "1   [redefining, for, a, better, future, eskoms, j...  \n",
       "2   [redefining, for, a, better, future, world, ba...  \n",
       "3   [redefining, for, a, better, future, exxaro, a...  \n",
       "4   [electric, vehiclesenergyenergy, servicesmarke...  \n",
       "..                                                ...  \n",
       "68  [november, in, press, releases, sawea, announc...  \n",
       "69  [h, holdings, is, a, blackowned, and, managed,...  \n",
       "70  [applying, science, to, develop, construct, an...  \n",
       "71  [nerdekraal, east, wind, farm, is, operational...  \n",
       "72  [kangnas, wind, farm, commenced, construction,...  \n",
       "\n",
       "[73 rows x 2 columns]"
      ]
     },
     "execution_count": 75,
     "metadata": {},
     "output_type": "execute_result"
    }
   ],
   "source": [
    "data"
   ]
  },
  {
   "cell_type": "markdown",
   "metadata": {},
   "source": [
    "# remove stop word"
   ]
  },
  {
   "cell_type": "code",
   "execution_count": 78,
   "metadata": {
    "execution": {
     "iopub.execute_input": "2023-05-16T00:25:08.164897Z",
     "iopub.status.busy": "2023-05-16T00:25:08.164381Z",
     "iopub.status.idle": "2023-05-16T00:25:08.171446Z",
     "shell.execute_reply": "2023-05-16T00:25:08.169790Z",
     "shell.execute_reply.started": "2023-05-16T00:25:08.164858Z"
    }
   },
   "outputs": [],
   "source": [
    "# Nettoyage des données\n",
    "stop_words = stopwords.words('english')"
   ]
  },
  {
   "cell_type": "code",
   "execution_count": 79,
   "metadata": {
    "execution": {
     "iopub.execute_input": "2023-05-16T00:25:16.704496Z",
     "iopub.status.busy": "2023-05-16T00:25:16.703979Z",
     "iopub.status.idle": "2023-05-16T00:25:16.713403Z",
     "shell.execute_reply": "2023-05-16T00:25:16.711672Z",
     "shell.execute_reply.started": "2023-05-16T00:25:16.704452Z"
    }
   },
   "outputs": [],
   "source": [
    "def remove_stop_word(data):\n",
    "    english_stopwords = stopwords.words('english')\n",
    "    tokens_wo_stopwords = [t for t in data if  t not in english_stopwords]\n",
    "    tokens_wo_stopwords = [t for t in tokens_wo_stopwords if len(t)>2]\n",
    "    return tokens_wo_stopwords"
   ]
  },
  {
   "cell_type": "code",
   "execution_count": 80,
   "metadata": {
    "execution": {
     "iopub.execute_input": "2023-05-16T00:25:21.748872Z",
     "iopub.status.busy": "2023-05-16T00:25:21.748362Z",
     "iopub.status.idle": "2023-05-16T00:25:21.855497Z",
     "shell.execute_reply": "2023-05-16T00:25:21.853980Z",
     "shell.execute_reply.started": "2023-05-16T00:25:21.748833Z"
    }
   },
   "outputs": [],
   "source": [
    "for i in data.index:\n",
    "    data[\"texts\"][i]=remove_stop_word(data[\"texts\"][i]) "
   ]
  },
  {
   "cell_type": "code",
   "execution_count": 81,
   "metadata": {
    "execution": {
     "iopub.execute_input": "2023-05-16T00:25:25.968083Z",
     "iopub.status.busy": "2023-05-16T00:25:25.967594Z",
     "iopub.status.idle": "2023-05-16T00:25:25.996164Z",
     "shell.execute_reply": "2023-05-16T00:25:25.994391Z",
     "shell.execute_reply.started": "2023-05-16T00:25:25.968044Z"
    }
   },
   "outputs": [
    {
     "data": {
      "text/html": [
       "<div>\n",
       "<style scoped>\n",
       "    .dataframe tbody tr th:only-of-type {\n",
       "        vertical-align: middle;\n",
       "    }\n",
       "\n",
       "    .dataframe tbody tr th {\n",
       "        vertical-align: top;\n",
       "    }\n",
       "\n",
       "    .dataframe thead th {\n",
       "        text-align: right;\n",
       "    }\n",
       "</style>\n",
       "<table border=\"1\" class=\"dataframe\">\n",
       "  <thead>\n",
       "    <tr style=\"text-align: right;\">\n",
       "      <th></th>\n",
       "      <th>sites</th>\n",
       "      <th>texts</th>\n",
       "    </tr>\n",
       "  </thead>\n",
       "  <tbody>\n",
       "    <tr>\n",
       "      <th>0</th>\n",
       "      <td>www.dmr.gov.za</td>\n",
       "      <td>[operating, mines, tenders, multimedia, opport...</td>\n",
       "    </tr>\n",
       "    <tr>\n",
       "      <th>1</th>\n",
       "      <td>www.eskom.co.za</td>\n",
       "      <td>[redefining, better, future, eskoms, energy, t...</td>\n",
       "    </tr>\n",
       "    <tr>\n",
       "      <th>2</th>\n",
       "      <td>www.eskom.co.za</td>\n",
       "      <td>[redefining, better, future, world, bank, appr...</td>\n",
       "    </tr>\n",
       "    <tr>\n",
       "      <th>3</th>\n",
       "      <td>www.eskom.co.za</td>\n",
       "      <td>[redefining, better, future, exxaro, seriti, r...</td>\n",
       "    </tr>\n",
       "    <tr>\n",
       "      <th>4</th>\n",
       "      <td>green-cape.co.za</td>\n",
       "      <td>[electric, vehiclesenergyenergy, servicesmarke...</td>\n",
       "    </tr>\n",
       "    <tr>\n",
       "      <th>...</th>\n",
       "      <td>...</td>\n",
       "      <td>...</td>\n",
       "    </tr>\n",
       "    <tr>\n",
       "      <th>68</th>\n",
       "      <td>sawea.org.za</td>\n",
       "      <td>[november, press, releases, sawea, announces, ...</td>\n",
       "    </tr>\n",
       "    <tr>\n",
       "      <th>69</th>\n",
       "      <td>www.h1holdings.co.za</td>\n",
       "      <td>[holdings, blackowned, managed, company, based...</td>\n",
       "    </tr>\n",
       "    <tr>\n",
       "      <th>70</th>\n",
       "      <td>www.windlab.com</td>\n",
       "      <td>[applying, science, develop, construct, operat...</td>\n",
       "    </tr>\n",
       "    <tr>\n",
       "      <th>71</th>\n",
       "      <td>perdekraaleastwind.co.za</td>\n",
       "      <td>[nerdekraal, east, wind, farm, operational, co...</td>\n",
       "    </tr>\n",
       "    <tr>\n",
       "      <th>72</th>\n",
       "      <td>kangnaswind.co.za</td>\n",
       "      <td>[kangnas, wind, farm, commenced, construction,...</td>\n",
       "    </tr>\n",
       "  </tbody>\n",
       "</table>\n",
       "<p>73 rows × 2 columns</p>\n",
       "</div>"
      ],
      "text/plain": [
       "                       sites  \\\n",
       "0             www.dmr.gov.za   \n",
       "1            www.eskom.co.za   \n",
       "2            www.eskom.co.za   \n",
       "3            www.eskom.co.za   \n",
       "4           green-cape.co.za   \n",
       "..                       ...   \n",
       "68              sawea.org.za   \n",
       "69      www.h1holdings.co.za   \n",
       "70           www.windlab.com   \n",
       "71  perdekraaleastwind.co.za   \n",
       "72         kangnaswind.co.za   \n",
       "\n",
       "                                                texts  \n",
       "0   [operating, mines, tenders, multimedia, opport...  \n",
       "1   [redefining, better, future, eskoms, energy, t...  \n",
       "2   [redefining, better, future, world, bank, appr...  \n",
       "3   [redefining, better, future, exxaro, seriti, r...  \n",
       "4   [electric, vehiclesenergyenergy, servicesmarke...  \n",
       "..                                                ...  \n",
       "68  [november, press, releases, sawea, announces, ...  \n",
       "69  [holdings, blackowned, managed, company, based...  \n",
       "70  [applying, science, develop, construct, operat...  \n",
       "71  [nerdekraal, east, wind, farm, operational, co...  \n",
       "72  [kangnas, wind, farm, commenced, construction,...  \n",
       "\n",
       "[73 rows x 2 columns]"
      ]
     },
     "execution_count": 81,
     "metadata": {},
     "output_type": "execute_result"
    }
   ],
   "source": [
    "data"
   ]
  },
  {
   "cell_type": "markdown",
   "metadata": {},
   "source": [
    "# lemmatization"
   ]
  },
  {
   "cell_type": "code",
   "execution_count": 82,
   "metadata": {
    "execution": {
     "iopub.execute_input": "2023-05-16T00:25:32.911107Z",
     "iopub.status.busy": "2023-05-16T00:25:32.909784Z",
     "iopub.status.idle": "2023-05-16T00:25:32.916921Z",
     "shell.execute_reply": "2023-05-16T00:25:32.915376Z",
     "shell.execute_reply.started": "2023-05-16T00:25:32.911056Z"
    }
   },
   "outputs": [],
   "source": [
    "from nltk.stem import WordNetLemmatizer, PorterStemmer"
   ]
  },
  {
   "cell_type": "code",
   "execution_count": null,
   "metadata": {
    "execution": {
     "iopub.execute_input": "2023-05-16T00:25:55.261638Z",
     "iopub.status.busy": "2023-05-16T00:25:55.261203Z",
     "iopub.status.idle": "2023-05-16T00:25:55.269013Z",
     "shell.execute_reply": "2023-05-16T00:25:55.267944Z",
     "shell.execute_reply.started": "2023-05-16T00:25:55.261596Z"
    }
   },
   "outputs": [],
   "source": [
    "def  lemmatization(data):\n",
    "    lemmatizer = WordNetLemmatizer()\n",
    "    lem = [lemmatizer.lemmatize(t) for t in data ]\n",
    "    return lem\n"
   ]
  },
  {
   "cell_type": "code",
   "execution_count": null,
   "metadata": {
    "execution": {
     "iopub.execute_input": "2023-05-16T00:25:58.313121Z",
     "iopub.status.busy": "2023-05-16T00:25:58.311783Z",
     "iopub.status.idle": "2023-05-16T00:25:58.321225Z",
     "shell.execute_reply": "2023-05-16T00:25:58.319773Z",
     "shell.execute_reply.started": "2023-05-16T00:25:58.313055Z"
    }
   },
   "outputs": [],
   "source": [
    "for i in data.index:\n",
    "    data[\"texts\"][i]=lemmatization(data[\"texts\"][i])"
   ]
  },
  {
   "cell_type": "markdown",
   "metadata": {},
   "source": [
    "# stemming"
   ]
  },
  {
   "cell_type": "code",
   "execution_count": 83,
   "metadata": {
    "execution": {
     "iopub.execute_input": "2023-05-16T00:25:43.404436Z",
     "iopub.status.busy": "2023-05-16T00:25:43.403934Z",
     "iopub.status.idle": "2023-05-16T00:25:43.412160Z",
     "shell.execute_reply": "2023-05-16T00:25:43.410459Z",
     "shell.execute_reply.started": "2023-05-16T00:25:43.404391Z"
    }
   },
   "outputs": [],
   "source": [
    "def stemming(data):\n",
    "    ps = PorterStemmer()\n",
    "    stem = [ps.stem(t) for t in data]\n",
    "    return stem"
   ]
  },
  {
   "cell_type": "code",
   "execution_count": 84,
   "metadata": {
    "execution": {
     "iopub.execute_input": "2023-05-16T00:25:50.067380Z",
     "iopub.status.busy": "2023-05-16T00:25:50.066892Z",
     "iopub.status.idle": "2023-05-16T00:25:50.589385Z",
     "shell.execute_reply": "2023-05-16T00:25:50.588347Z",
     "shell.execute_reply.started": "2023-05-16T00:25:50.067340Z"
    }
   },
   "outputs": [],
   "source": [
    "for i in data.index:\n",
    "    data[\"texts\"][i]=stemming(data[\"texts\"][i]) "
   ]
  },
  {
   "cell_type": "code",
   "execution_count": 87,
   "metadata": {
    "execution": {
     "iopub.execute_input": "2023-05-16T00:26:08.584258Z",
     "iopub.status.busy": "2023-05-16T00:26:08.582812Z",
     "iopub.status.idle": "2023-05-16T00:26:08.609749Z",
     "shell.execute_reply": "2023-05-16T00:26:08.608358Z",
     "shell.execute_reply.started": "2023-05-16T00:26:08.584208Z"
    }
   },
   "outputs": [
    {
     "data": {
      "text/html": [
       "<div>\n",
       "<style scoped>\n",
       "    .dataframe tbody tr th:only-of-type {\n",
       "        vertical-align: middle;\n",
       "    }\n",
       "\n",
       "    .dataframe tbody tr th {\n",
       "        vertical-align: top;\n",
       "    }\n",
       "\n",
       "    .dataframe thead th {\n",
       "        text-align: right;\n",
       "    }\n",
       "</style>\n",
       "<table border=\"1\" class=\"dataframe\">\n",
       "  <thead>\n",
       "    <tr style=\"text-align: right;\">\n",
       "      <th></th>\n",
       "      <th>sites</th>\n",
       "      <th>texts</th>\n",
       "    </tr>\n",
       "  </thead>\n",
       "  <tbody>\n",
       "    <tr>\n",
       "      <th>0</th>\n",
       "      <td>www.dmr.gov.za</td>\n",
       "      <td>[oper, mine, tender, multimedia, opportun, con...</td>\n",
       "    </tr>\n",
       "    <tr>\n",
       "      <th>1</th>\n",
       "      <td>www.eskom.co.za</td>\n",
       "      <td>[redefin, better, futur, eskom, energi, transi...</td>\n",
       "    </tr>\n",
       "    <tr>\n",
       "      <th>2</th>\n",
       "      <td>www.eskom.co.za</td>\n",
       "      <td>[redefin, better, futur, world, bank, approv, ...</td>\n",
       "    </tr>\n",
       "    <tr>\n",
       "      <th>3</th>\n",
       "      <td>www.eskom.co.za</td>\n",
       "      <td>[redefin, better, futur, exxaro, seriti, resou...</td>\n",
       "    </tr>\n",
       "    <tr>\n",
       "      <th>4</th>\n",
       "      <td>green-cape.co.za</td>\n",
       "      <td>[electr, vehiclesenergyenergi, servicesmarket,...</td>\n",
       "    </tr>\n",
       "    <tr>\n",
       "      <th>...</th>\n",
       "      <td>...</td>\n",
       "      <td>...</td>\n",
       "    </tr>\n",
       "    <tr>\n",
       "      <th>68</th>\n",
       "      <td>sawea.org.za</td>\n",
       "      <td>[novemb, press, releas, sawea, announc, chair,...</td>\n",
       "    </tr>\n",
       "    <tr>\n",
       "      <th>69</th>\n",
       "      <td>www.h1holdings.co.za</td>\n",
       "      <td>[hold, blackown, manag, compani, base, south, ...</td>\n",
       "    </tr>\n",
       "    <tr>\n",
       "      <th>70</th>\n",
       "      <td>www.windlab.com</td>\n",
       "      <td>[appli, scienc, develop, construct, oper, bett...</td>\n",
       "    </tr>\n",
       "    <tr>\n",
       "      <th>71</th>\n",
       "      <td>perdekraaleastwind.co.za</td>\n",
       "      <td>[nerdekra, east, wind, farm, oper, consist, tu...</td>\n",
       "    </tr>\n",
       "    <tr>\n",
       "      <th>72</th>\n",
       "      <td>kangnaswind.co.za</td>\n",
       "      <td>[kangna, wind, farm, commenc, construct, june,...</td>\n",
       "    </tr>\n",
       "  </tbody>\n",
       "</table>\n",
       "<p>73 rows × 2 columns</p>\n",
       "</div>"
      ],
      "text/plain": [
       "                       sites  \\\n",
       "0             www.dmr.gov.za   \n",
       "1            www.eskom.co.za   \n",
       "2            www.eskom.co.za   \n",
       "3            www.eskom.co.za   \n",
       "4           green-cape.co.za   \n",
       "..                       ...   \n",
       "68              sawea.org.za   \n",
       "69      www.h1holdings.co.za   \n",
       "70           www.windlab.com   \n",
       "71  perdekraaleastwind.co.za   \n",
       "72         kangnaswind.co.za   \n",
       "\n",
       "                                                texts  \n",
       "0   [oper, mine, tender, multimedia, opportun, con...  \n",
       "1   [redefin, better, futur, eskom, energi, transi...  \n",
       "2   [redefin, better, futur, world, bank, approv, ...  \n",
       "3   [redefin, better, futur, exxaro, seriti, resou...  \n",
       "4   [electr, vehiclesenergyenergi, servicesmarket,...  \n",
       "..                                                ...  \n",
       "68  [novemb, press, releas, sawea, announc, chair,...  \n",
       "69  [hold, blackown, manag, compani, base, south, ...  \n",
       "70  [appli, scienc, develop, construct, oper, bett...  \n",
       "71  [nerdekra, east, wind, farm, oper, consist, tu...  \n",
       "72  [kangna, wind, farm, commenc, construct, june,...  \n",
       "\n",
       "[73 rows x 2 columns]"
      ]
     },
     "execution_count": 87,
     "metadata": {},
     "output_type": "execute_result"
    }
   ],
   "source": [
    "data"
   ]
  },
  {
   "cell_type": "markdown",
   "metadata": {},
   "source": [
    "# Regroup text"
   ]
  },
  {
   "cell_type": "code",
   "execution_count": 89,
   "metadata": {
    "execution": {
     "iopub.execute_input": "2023-05-16T00:26:20.682238Z",
     "iopub.status.busy": "2023-05-16T00:26:20.681748Z",
     "iopub.status.idle": "2023-05-16T00:26:20.689431Z",
     "shell.execute_reply": "2023-05-16T00:26:20.687670Z",
     "shell.execute_reply.started": "2023-05-16T00:26:20.682197Z"
    }
   },
   "outputs": [],
   "source": [
    "def regrouptex(dataframe):\n",
    "    texte = []\n",
    "    for i in dataframe.index:\n",
    "        texte.extend(data[\"texts\"][i])\n",
    "    return texte"
   ]
  },
  {
   "cell_type": "code",
   "execution_count": 90,
   "metadata": {
    "execution": {
     "iopub.execute_input": "2023-05-16T00:26:23.993877Z",
     "iopub.status.busy": "2023-05-16T00:26:23.993281Z",
     "iopub.status.idle": "2023-05-16T00:26:24.001583Z",
     "shell.execute_reply": "2023-05-16T00:26:23.999725Z",
     "shell.execute_reply.started": "2023-05-16T00:26:23.993832Z"
    }
   },
   "outputs": [],
   "source": [
    "text_data = regrouptex(data)"
   ]
  },
  {
   "cell_type": "code",
   "execution_count": 91,
   "metadata": {
    "execution": {
     "iopub.execute_input": "2023-05-16T00:26:27.241453Z",
     "iopub.status.busy": "2023-05-16T00:26:27.240962Z",
     "iopub.status.idle": "2023-05-16T00:26:27.250131Z",
     "shell.execute_reply": "2023-05-16T00:26:27.248780Z",
     "shell.execute_reply.started": "2023-05-16T00:26:27.241416Z"
    }
   },
   "outputs": [
    {
     "data": {
      "text/plain": [
       "17280"
      ]
     },
     "execution_count": 91,
     "metadata": {},
     "output_type": "execute_result"
    }
   ],
   "source": [
    "len(text_data)"
   ]
  },
  {
   "cell_type": "markdown",
   "metadata": {},
   "source": [
    "# Vectorisation"
   ]
  },
  {
   "cell_type": "code",
   "execution_count": 92,
   "metadata": {
    "execution": {
     "iopub.execute_input": "2023-05-16T00:26:35.613756Z",
     "iopub.status.busy": "2023-05-16T00:26:35.613203Z",
     "iopub.status.idle": "2023-05-16T00:26:35.700316Z",
     "shell.execute_reply": "2023-05-16T00:26:35.698832Z",
     "shell.execute_reply.started": "2023-05-16T00:26:35.613714Z"
    }
   },
   "outputs": [],
   "source": [
    "from sklearn.feature_extraction.text import CountVectorizer, TfidfVectorizer\n",
    "\n",
    "count_vectorizer = CountVectorizer(min_df=5, max_df=0.9, stop_words='english', lowercase=True, token_pattern='[a-zA-Z\\-][a-zA-Z\\-]{2,}')\n",
    "data_vectorized = count_vectorizer.fit_transform(text_data)"
   ]
  },
  {
   "cell_type": "code",
   "execution_count": 93,
   "metadata": {
    "execution": {
     "iopub.execute_input": "2023-05-16T00:26:44.585634Z",
     "iopub.status.busy": "2023-05-16T00:26:44.585078Z",
     "iopub.status.idle": "2023-05-16T00:26:44.666256Z",
     "shell.execute_reply": "2023-05-16T00:26:44.664694Z",
     "shell.execute_reply.started": "2023-05-16T00:26:44.585594Z"
    }
   },
   "outputs": [],
   "source": [
    "tfidvectorizer = TfidfVectorizer()\n",
    "data_tfidvectorize = tfidvectorizer.fit_transform(text_data)"
   ]
  },
  {
   "cell_type": "markdown",
   "metadata": {},
   "source": [
    "# LDA"
   ]
  },
  {
   "cell_type": "markdown",
   "metadata": {},
   "source": [
    "## model with idf vector"
   ]
  },
  {
   "cell_type": "code",
   "execution_count": null,
   "metadata": {},
   "outputs": [],
   "source": [
    "# Création du modèle LDA\n",
    "lda_model = LatentDirichletAllocation(n_components=13, max_iter=500, random_state=42)\n",
    "\n",
    "# Entraînement du modèle LDA\n",
    "lda_output = lda_model.fit_transform(data_tfidvectorize )"
   ]
  },
  {
   "cell_type": "code",
   "execution_count": null,
   "metadata": {},
   "outputs": [],
   "source": [
    "# Assign TfidfVectorizer object to \"vectorizer\" variable\n",
    "vectorizer = count_vectorizer\n",
    "# Visualisation des résultats\n",
    "pyLDAvis.enable_notebook()\n",
    "panel = pyLDAvis.sklearn.prepare(lda_model, data_tfidvectorize , tfidvectorizer, mds='tsne')\n",
    "panel\n",
    "#plt.show()"
   ]
  },
  {
   "cell_type": "code",
   "execution_count": null,
   "metadata": {},
   "outputs": [],
   "source": [
    "cv_matrix = data_tfidvectorize.toarray()\n",
    "cv_matrix"
   ]
  },
  {
   "cell_type": "code",
   "execution_count": null,
   "metadata": {},
   "outputs": [],
   "source": [
    "# tdif\n",
    "print(lda_model.score(cv_matrix))\n",
    "# perplexity\n",
    "print(lda_model.perplexity(cv_matrix))\n",
    "print(lda_model.evaluate_every)"
   ]
  },
  {
   "cell_type": "code",
   "execution_count": null,
   "metadata": {},
   "outputs": [],
   "source": [
    "# get all unique words in the corpus\n",
    "vocab =tfidvectorizer.get_feature_names()\n",
    "# show document feature vectors\n",
    "pd.DataFrame(cv_matrix, columns=vocab)"
   ]
  },
  {
   "cell_type": "markdown",
   "metadata": {},
   "source": [
    "# model with vector count"
   ]
  },
  {
   "cell_type": "code",
   "execution_count": 98,
   "metadata": {
    "execution": {
     "iopub.execute_input": "2023-05-16T00:27:31.995534Z",
     "iopub.status.busy": "2023-05-16T00:27:31.995056Z",
     "iopub.status.idle": "2023-05-16T00:33:00.126822Z",
     "shell.execute_reply": "2023-05-16T00:33:00.125379Z",
     "shell.execute_reply.started": "2023-05-16T00:27:31.995496Z"
    }
   },
   "outputs": [],
   "source": [
    "# Création du modèle LDA\n",
    "lda_model = LatentDirichletAllocation(n_components=13, max_iter=500, random_state=42)\n",
    "\n",
    "# Entraînement du modèle LDA\n",
    "lda_output = lda_model.fit_transform(data_vectorized)"
   ]
  },
  {
   "cell_type": "code",
   "execution_count": 100,
   "metadata": {
    "execution": {
     "iopub.execute_input": "2023-05-16T00:35:54.184975Z",
     "iopub.status.busy": "2023-05-16T00:35:54.183104Z",
     "iopub.status.idle": "2023-05-16T00:35:55.365732Z",
     "shell.execute_reply": "2023-05-16T00:35:55.364446Z",
     "shell.execute_reply.started": "2023-05-16T00:35:54.184915Z"
    }
   },
   "outputs": [],
   "source": [
    "# Assign TfidfVectorizer object to \"vectorizer\" variable\n",
    "vectorizer = count_vectorizer\n",
    "\n",
    "# Visualisation des résultats\n",
    "pyLDAvis.enable_notebook()\n",
    "panel = pyLDAvis.sklearn.prepare(lda_model, data_vectorized, vectorizer, mds='tsne')\n",
    "panel\n",
    "#plt.show()"
   ]
  },
  {
   "cell_type": "markdown",
   "metadata": {},
   "source": [
    "# Compute perplexity"
   ]
  },
  {
   "cell_type": "code",
   "execution_count": 101,
   "metadata": {
    "execution": {
     "iopub.execute_input": "2023-05-16T00:36:06.136393Z",
     "iopub.status.busy": "2023-05-16T00:36:06.135854Z",
     "iopub.status.idle": "2023-05-16T00:36:06.196842Z",
     "shell.execute_reply": "2023-05-16T00:36:06.195399Z",
     "shell.execute_reply.started": "2023-05-16T00:36:06.136345Z"
    }
   },
   "outputs": [
    {
     "data": {
      "text/plain": [
       "array([[0, 0, 0, ..., 0, 0, 0],\n",
       "       [0, 0, 0, ..., 0, 0, 0],\n",
       "       [0, 0, 0, ..., 0, 0, 0],\n",
       "       ...,\n",
       "       [0, 0, 0, ..., 0, 0, 0],\n",
       "       [0, 0, 0, ..., 0, 0, 0],\n",
       "       [0, 0, 0, ..., 0, 0, 0]])"
      ]
     },
     "execution_count": 101,
     "metadata": {},
     "output_type": "execute_result"
    }
   ],
   "source": [
    "cv_matrix = data_vectorized.toarray()\n",
    "cv_matrix"
   ]
  },
  {
   "cell_type": "code",
   "execution_count": null,
   "metadata": {},
   "outputs": [],
   "source": [
    "# get all unique words in the corpus\n",
    "vocab = count_vectorizer.get_feature_names()\n",
    "# show document feature vectors\n",
    "pd.DataFrame(cv_matrix, columns=vocab)"
   ]
  },
  {
   "cell_type": "code",
   "execution_count": null,
   "metadata": {},
   "outputs": [],
   "source": [
    "#CPU times: user 4h 16min 29s, sys: 1.6 s, total: 4h 16min 30s\n",
    "#Wall time: 4h 16min 42s\n",
    "# log-likelihood  countvect\n",
    "print(lda_model.score(cv_matrix))\n",
    "# perplexity\n",
    "print(lda_model.perplexity(cv_matrix))\n",
    "print(lda_model.evaluate_every)\n"
   ]
  },
  {
   "cell_type": "markdown",
   "metadata": {},
   "source": [
    "# Compute partial correlation"
   ]
  },
  {
   "cell_type": "code",
   "execution_count": 102,
   "metadata": {
    "execution": {
     "iopub.execute_input": "2023-05-16T00:36:28.308361Z",
     "iopub.status.busy": "2023-05-16T00:36:28.307871Z",
     "iopub.status.idle": "2023-05-16T00:36:28.335994Z",
     "shell.execute_reply": "2023-05-16T00:36:28.334436Z",
     "shell.execute_reply.started": "2023-05-16T00:36:28.308320Z"
    }
   },
   "outputs": [
    {
     "data": {
      "text/html": [
       "<div>\n",
       "<style scoped>\n",
       "    .dataframe tbody tr th:only-of-type {\n",
       "        vertical-align: middle;\n",
       "    }\n",
       "\n",
       "    .dataframe tbody tr th {\n",
       "        vertical-align: top;\n",
       "    }\n",
       "\n",
       "    .dataframe thead th {\n",
       "        text-align: right;\n",
       "    }\n",
       "</style>\n",
       "<table border=\"1\" class=\"dataframe\">\n",
       "  <thead>\n",
       "    <tr style=\"text-align: right;\">\n",
       "      <th></th>\n",
       "      <th>T1</th>\n",
       "      <th>T2</th>\n",
       "      <th>T3</th>\n",
       "      <th>T4</th>\n",
       "      <th>T5</th>\n",
       "      <th>T6</th>\n",
       "      <th>T7</th>\n",
       "      <th>T8</th>\n",
       "      <th>T9</th>\n",
       "      <th>T10</th>\n",
       "      <th>T11</th>\n",
       "      <th>T12</th>\n",
       "      <th>T13</th>\n",
       "    </tr>\n",
       "  </thead>\n",
       "  <tbody>\n",
       "    <tr>\n",
       "      <th>0</th>\n",
       "      <td>0.038462</td>\n",
       "      <td>0.038462</td>\n",
       "      <td>0.038462</td>\n",
       "      <td>0.038462</td>\n",
       "      <td>0.038462</td>\n",
       "      <td>0.038462</td>\n",
       "      <td>0.038462</td>\n",
       "      <td>0.038462</td>\n",
       "      <td>0.038462</td>\n",
       "      <td>0.538462</td>\n",
       "      <td>0.038462</td>\n",
       "      <td>0.038462</td>\n",
       "      <td>0.038462</td>\n",
       "    </tr>\n",
       "    <tr>\n",
       "      <th>1</th>\n",
       "      <td>0.076923</td>\n",
       "      <td>0.076923</td>\n",
       "      <td>0.076923</td>\n",
       "      <td>0.076923</td>\n",
       "      <td>0.076923</td>\n",
       "      <td>0.076923</td>\n",
       "      <td>0.076923</td>\n",
       "      <td>0.076923</td>\n",
       "      <td>0.076923</td>\n",
       "      <td>0.076923</td>\n",
       "      <td>0.076923</td>\n",
       "      <td>0.076923</td>\n",
       "      <td>0.076923</td>\n",
       "    </tr>\n",
       "    <tr>\n",
       "      <th>2</th>\n",
       "      <td>0.538462</td>\n",
       "      <td>0.038462</td>\n",
       "      <td>0.038462</td>\n",
       "      <td>0.038462</td>\n",
       "      <td>0.038462</td>\n",
       "      <td>0.038462</td>\n",
       "      <td>0.038462</td>\n",
       "      <td>0.038462</td>\n",
       "      <td>0.038462</td>\n",
       "      <td>0.038462</td>\n",
       "      <td>0.038462</td>\n",
       "      <td>0.038462</td>\n",
       "      <td>0.038462</td>\n",
       "    </tr>\n",
       "    <tr>\n",
       "      <th>3</th>\n",
       "      <td>0.076923</td>\n",
       "      <td>0.076923</td>\n",
       "      <td>0.076923</td>\n",
       "      <td>0.076923</td>\n",
       "      <td>0.076923</td>\n",
       "      <td>0.076923</td>\n",
       "      <td>0.076923</td>\n",
       "      <td>0.076923</td>\n",
       "      <td>0.076923</td>\n",
       "      <td>0.076923</td>\n",
       "      <td>0.076923</td>\n",
       "      <td>0.076923</td>\n",
       "      <td>0.076923</td>\n",
       "    </tr>\n",
       "    <tr>\n",
       "      <th>4</th>\n",
       "      <td>0.038462</td>\n",
       "      <td>0.038462</td>\n",
       "      <td>0.038462</td>\n",
       "      <td>0.038462</td>\n",
       "      <td>0.038462</td>\n",
       "      <td>0.038462</td>\n",
       "      <td>0.038462</td>\n",
       "      <td>0.038462</td>\n",
       "      <td>0.038462</td>\n",
       "      <td>0.038462</td>\n",
       "      <td>0.038462</td>\n",
       "      <td>0.038462</td>\n",
       "      <td>0.538462</td>\n",
       "    </tr>\n",
       "    <tr>\n",
       "      <th>...</th>\n",
       "      <td>...</td>\n",
       "      <td>...</td>\n",
       "      <td>...</td>\n",
       "      <td>...</td>\n",
       "      <td>...</td>\n",
       "      <td>...</td>\n",
       "      <td>...</td>\n",
       "      <td>...</td>\n",
       "      <td>...</td>\n",
       "      <td>...</td>\n",
       "      <td>...</td>\n",
       "      <td>...</td>\n",
       "      <td>...</td>\n",
       "    </tr>\n",
       "    <tr>\n",
       "      <th>17275</th>\n",
       "      <td>0.038462</td>\n",
       "      <td>0.538462</td>\n",
       "      <td>0.038462</td>\n",
       "      <td>0.038462</td>\n",
       "      <td>0.038462</td>\n",
       "      <td>0.038462</td>\n",
       "      <td>0.038462</td>\n",
       "      <td>0.038462</td>\n",
       "      <td>0.038462</td>\n",
       "      <td>0.038462</td>\n",
       "      <td>0.038462</td>\n",
       "      <td>0.038462</td>\n",
       "      <td>0.038462</td>\n",
       "    </tr>\n",
       "    <tr>\n",
       "      <th>17276</th>\n",
       "      <td>0.038462</td>\n",
       "      <td>0.038462</td>\n",
       "      <td>0.038462</td>\n",
       "      <td>0.038462</td>\n",
       "      <td>0.038462</td>\n",
       "      <td>0.038462</td>\n",
       "      <td>0.038462</td>\n",
       "      <td>0.038462</td>\n",
       "      <td>0.538462</td>\n",
       "      <td>0.038462</td>\n",
       "      <td>0.038462</td>\n",
       "      <td>0.038462</td>\n",
       "      <td>0.038462</td>\n",
       "    </tr>\n",
       "    <tr>\n",
       "      <th>17277</th>\n",
       "      <td>0.038462</td>\n",
       "      <td>0.038462</td>\n",
       "      <td>0.038462</td>\n",
       "      <td>0.038462</td>\n",
       "      <td>0.038462</td>\n",
       "      <td>0.038462</td>\n",
       "      <td>0.038462</td>\n",
       "      <td>0.038462</td>\n",
       "      <td>0.038462</td>\n",
       "      <td>0.038462</td>\n",
       "      <td>0.038462</td>\n",
       "      <td>0.538462</td>\n",
       "      <td>0.038462</td>\n",
       "    </tr>\n",
       "    <tr>\n",
       "      <th>17278</th>\n",
       "      <td>0.076923</td>\n",
       "      <td>0.076923</td>\n",
       "      <td>0.076923</td>\n",
       "      <td>0.076923</td>\n",
       "      <td>0.076923</td>\n",
       "      <td>0.076923</td>\n",
       "      <td>0.076923</td>\n",
       "      <td>0.076923</td>\n",
       "      <td>0.076923</td>\n",
       "      <td>0.076923</td>\n",
       "      <td>0.076923</td>\n",
       "      <td>0.076923</td>\n",
       "      <td>0.076923</td>\n",
       "    </tr>\n",
       "    <tr>\n",
       "      <th>17279</th>\n",
       "      <td>0.038462</td>\n",
       "      <td>0.038462</td>\n",
       "      <td>0.038462</td>\n",
       "      <td>0.038462</td>\n",
       "      <td>0.038462</td>\n",
       "      <td>0.038462</td>\n",
       "      <td>0.038462</td>\n",
       "      <td>0.038462</td>\n",
       "      <td>0.038462</td>\n",
       "      <td>0.038462</td>\n",
       "      <td>0.038462</td>\n",
       "      <td>0.538462</td>\n",
       "      <td>0.038462</td>\n",
       "    </tr>\n",
       "  </tbody>\n",
       "</table>\n",
       "<p>17280 rows × 13 columns</p>\n",
       "</div>"
      ],
      "text/plain": [
       "             T1        T2        T3        T4        T5        T6        T7  \\\n",
       "0      0.038462  0.038462  0.038462  0.038462  0.038462  0.038462  0.038462   \n",
       "1      0.076923  0.076923  0.076923  0.076923  0.076923  0.076923  0.076923   \n",
       "2      0.538462  0.038462  0.038462  0.038462  0.038462  0.038462  0.038462   \n",
       "3      0.076923  0.076923  0.076923  0.076923  0.076923  0.076923  0.076923   \n",
       "4      0.038462  0.038462  0.038462  0.038462  0.038462  0.038462  0.038462   \n",
       "...         ...       ...       ...       ...       ...       ...       ...   \n",
       "17275  0.038462  0.538462  0.038462  0.038462  0.038462  0.038462  0.038462   \n",
       "17276  0.038462  0.038462  0.038462  0.038462  0.038462  0.038462  0.038462   \n",
       "17277  0.038462  0.038462  0.038462  0.038462  0.038462  0.038462  0.038462   \n",
       "17278  0.076923  0.076923  0.076923  0.076923  0.076923  0.076923  0.076923   \n",
       "17279  0.038462  0.038462  0.038462  0.038462  0.038462  0.038462  0.038462   \n",
       "\n",
       "             T8        T9       T10       T11       T12       T13  \n",
       "0      0.038462  0.038462  0.538462  0.038462  0.038462  0.038462  \n",
       "1      0.076923  0.076923  0.076923  0.076923  0.076923  0.076923  \n",
       "2      0.038462  0.038462  0.038462  0.038462  0.038462  0.038462  \n",
       "3      0.076923  0.076923  0.076923  0.076923  0.076923  0.076923  \n",
       "4      0.038462  0.038462  0.038462  0.038462  0.038462  0.538462  \n",
       "...         ...       ...       ...       ...       ...       ...  \n",
       "17275  0.038462  0.038462  0.038462  0.038462  0.038462  0.038462  \n",
       "17276  0.038462  0.538462  0.038462  0.038462  0.038462  0.038462  \n",
       "17277  0.038462  0.038462  0.038462  0.038462  0.538462  0.038462  \n",
       "17278  0.076923  0.076923  0.076923  0.076923  0.076923  0.076923  \n",
       "17279  0.038462  0.038462  0.038462  0.038462  0.538462  0.038462  \n",
       "\n",
       "[17280 rows x 13 columns]"
      ]
     },
     "execution_count": 102,
     "metadata": {},
     "output_type": "execute_result"
    }
   ],
   "source": [
    "## doc-topic matrix\n",
    "doc_topic_df = pd.DataFrame(lda_output, columns=['T1', 'T2', 'T3','T4', 'T5', 'T6','T7','T8', 'T9', 'T10','T11', 'T12', 'T13'])\n",
    "doc_topic_df"
   ]
  },
  {
   "cell_type": "code",
   "execution_count": null,
   "metadata": {
    "execution": {
     "iopub.execute_input": "2023-05-16T00:37:58.502604Z",
     "iopub.status.busy": "2023-05-16T00:37:58.501474Z",
     "iopub.status.idle": "2023-05-16T00:38:15.205655Z",
     "shell.execute_reply": "2023-05-16T00:38:15.204475Z",
     "shell.execute_reply.started": "2023-05-16T00:37:58.502531Z"
    }
   },
   "outputs": [],
   "source": [
    "! pip install pingouin"
   ]
  },
  {
   "cell_type": "code",
   "execution_count": 105,
   "metadata": {
    "execution": {
     "iopub.execute_input": "2023-05-16T00:38:15.208777Z",
     "iopub.status.busy": "2023-05-16T00:38:15.208366Z",
     "iopub.status.idle": "2023-05-16T00:38:15.598385Z",
     "shell.execute_reply": "2023-05-16T00:38:15.597161Z",
     "shell.execute_reply.started": "2023-05-16T00:38:15.208739Z"
    }
   },
   "outputs": [],
   "source": [
    "import pingouin as pg\n",
    " "
   ]
  },
  {
   "cell_type": "code",
   "execution_count": 120,
   "metadata": {
    "execution": {
     "iopub.execute_input": "2023-05-16T00:46:56.100289Z",
     "iopub.status.busy": "2023-05-16T00:46:56.099789Z",
     "iopub.status.idle": "2023-05-16T00:46:56.152928Z",
     "shell.execute_reply": "2023-05-16T00:46:56.151480Z",
     "shell.execute_reply.started": "2023-05-16T00:46:56.100243Z"
    }
   },
   "outputs": [
    {
     "data": {
      "text/html": [
       "<div>\n",
       "<style scoped>\n",
       "    .dataframe tbody tr th:only-of-type {\n",
       "        vertical-align: middle;\n",
       "    }\n",
       "\n",
       "    .dataframe tbody tr th {\n",
       "        vertical-align: top;\n",
       "    }\n",
       "\n",
       "    .dataframe thead th {\n",
       "        text-align: right;\n",
       "    }\n",
       "</style>\n",
       "<table border=\"1\" class=\"dataframe\">\n",
       "  <thead>\n",
       "    <tr style=\"text-align: right;\">\n",
       "      <th></th>\n",
       "      <th>T1</th>\n",
       "      <th>T2</th>\n",
       "      <th>T3</th>\n",
       "      <th>T4</th>\n",
       "      <th>T5</th>\n",
       "      <th>T6</th>\n",
       "      <th>T7</th>\n",
       "      <th>T8</th>\n",
       "      <th>T9</th>\n",
       "      <th>T10</th>\n",
       "      <th>T11</th>\n",
       "      <th>T12</th>\n",
       "      <th>T13</th>\n",
       "    </tr>\n",
       "  </thead>\n",
       "  <tbody>\n",
       "    <tr>\n",
       "      <th>T1</th>\n",
       "      <td>1.000</td>\n",
       "      <td>0.090</td>\n",
       "      <td>0.077</td>\n",
       "      <td>0.084</td>\n",
       "      <td>0.086</td>\n",
       "      <td>0.071</td>\n",
       "      <td>0.087</td>\n",
       "      <td>0.092</td>\n",
       "      <td>0.099</td>\n",
       "      <td>0.080</td>\n",
       "      <td>0.089</td>\n",
       "      <td>0.085</td>\n",
       "      <td>0.079</td>\n",
       "    </tr>\n",
       "    <tr>\n",
       "      <th>T2</th>\n",
       "      <td>0.090</td>\n",
       "      <td>1.000</td>\n",
       "      <td>0.080</td>\n",
       "      <td>0.086</td>\n",
       "      <td>0.088</td>\n",
       "      <td>0.074</td>\n",
       "      <td>0.090</td>\n",
       "      <td>0.095</td>\n",
       "      <td>0.101</td>\n",
       "      <td>0.083</td>\n",
       "      <td>0.091</td>\n",
       "      <td>0.087</td>\n",
       "      <td>0.082</td>\n",
       "    </tr>\n",
       "    <tr>\n",
       "      <th>T3</th>\n",
       "      <td>0.077</td>\n",
       "      <td>0.080</td>\n",
       "      <td>1.000</td>\n",
       "      <td>0.073</td>\n",
       "      <td>0.076</td>\n",
       "      <td>0.057</td>\n",
       "      <td>0.077</td>\n",
       "      <td>0.083</td>\n",
       "      <td>0.091</td>\n",
       "      <td>0.068</td>\n",
       "      <td>0.079</td>\n",
       "      <td>0.074</td>\n",
       "      <td>0.067</td>\n",
       "    </tr>\n",
       "    <tr>\n",
       "      <th>T4</th>\n",
       "      <td>0.084</td>\n",
       "      <td>0.086</td>\n",
       "      <td>0.073</td>\n",
       "      <td>1.000</td>\n",
       "      <td>0.082</td>\n",
       "      <td>0.066</td>\n",
       "      <td>0.084</td>\n",
       "      <td>0.089</td>\n",
       "      <td>0.096</td>\n",
       "      <td>0.076</td>\n",
       "      <td>0.086</td>\n",
       "      <td>0.081</td>\n",
       "      <td>0.075</td>\n",
       "    </tr>\n",
       "    <tr>\n",
       "      <th>T5</th>\n",
       "      <td>0.086</td>\n",
       "      <td>0.088</td>\n",
       "      <td>0.076</td>\n",
       "      <td>0.082</td>\n",
       "      <td>1.000</td>\n",
       "      <td>0.069</td>\n",
       "      <td>0.086</td>\n",
       "      <td>0.091</td>\n",
       "      <td>0.098</td>\n",
       "      <td>0.078</td>\n",
       "      <td>0.088</td>\n",
       "      <td>0.083</td>\n",
       "      <td>0.078</td>\n",
       "    </tr>\n",
       "    <tr>\n",
       "      <th>T6</th>\n",
       "      <td>0.071</td>\n",
       "      <td>0.074</td>\n",
       "      <td>0.057</td>\n",
       "      <td>0.066</td>\n",
       "      <td>0.069</td>\n",
       "      <td>1.000</td>\n",
       "      <td>0.071</td>\n",
       "      <td>0.078</td>\n",
       "      <td>0.086</td>\n",
       "      <td>0.061</td>\n",
       "      <td>0.073</td>\n",
       "      <td>0.067</td>\n",
       "      <td>0.060</td>\n",
       "    </tr>\n",
       "    <tr>\n",
       "      <th>T7</th>\n",
       "      <td>0.087</td>\n",
       "      <td>0.090</td>\n",
       "      <td>0.077</td>\n",
       "      <td>0.084</td>\n",
       "      <td>0.086</td>\n",
       "      <td>0.071</td>\n",
       "      <td>1.000</td>\n",
       "      <td>0.093</td>\n",
       "      <td>0.099</td>\n",
       "      <td>0.080</td>\n",
       "      <td>0.089</td>\n",
       "      <td>0.085</td>\n",
       "      <td>0.079</td>\n",
       "    </tr>\n",
       "    <tr>\n",
       "      <th>T8</th>\n",
       "      <td>0.092</td>\n",
       "      <td>0.095</td>\n",
       "      <td>0.083</td>\n",
       "      <td>0.089</td>\n",
       "      <td>0.091</td>\n",
       "      <td>0.078</td>\n",
       "      <td>0.093</td>\n",
       "      <td>1.000</td>\n",
       "      <td>0.103</td>\n",
       "      <td>0.086</td>\n",
       "      <td>0.094</td>\n",
       "      <td>0.090</td>\n",
       "      <td>0.085</td>\n",
       "    </tr>\n",
       "    <tr>\n",
       "      <th>T9</th>\n",
       "      <td>0.099</td>\n",
       "      <td>0.101</td>\n",
       "      <td>0.091</td>\n",
       "      <td>0.096</td>\n",
       "      <td>0.098</td>\n",
       "      <td>0.086</td>\n",
       "      <td>0.099</td>\n",
       "      <td>0.103</td>\n",
       "      <td>1.000</td>\n",
       "      <td>0.093</td>\n",
       "      <td>0.100</td>\n",
       "      <td>0.097</td>\n",
       "      <td>0.092</td>\n",
       "    </tr>\n",
       "    <tr>\n",
       "      <th>T10</th>\n",
       "      <td>0.080</td>\n",
       "      <td>0.083</td>\n",
       "      <td>0.068</td>\n",
       "      <td>0.076</td>\n",
       "      <td>0.078</td>\n",
       "      <td>0.061</td>\n",
       "      <td>0.080</td>\n",
       "      <td>0.086</td>\n",
       "      <td>0.093</td>\n",
       "      <td>1.000</td>\n",
       "      <td>0.082</td>\n",
       "      <td>0.077</td>\n",
       "      <td>0.071</td>\n",
       "    </tr>\n",
       "    <tr>\n",
       "      <th>T11</th>\n",
       "      <td>0.089</td>\n",
       "      <td>0.091</td>\n",
       "      <td>0.079</td>\n",
       "      <td>0.086</td>\n",
       "      <td>0.088</td>\n",
       "      <td>0.073</td>\n",
       "      <td>0.089</td>\n",
       "      <td>0.094</td>\n",
       "      <td>0.100</td>\n",
       "      <td>0.082</td>\n",
       "      <td>1.000</td>\n",
       "      <td>0.087</td>\n",
       "      <td>0.081</td>\n",
       "    </tr>\n",
       "    <tr>\n",
       "      <th>T12</th>\n",
       "      <td>0.085</td>\n",
       "      <td>0.087</td>\n",
       "      <td>0.074</td>\n",
       "      <td>0.081</td>\n",
       "      <td>0.083</td>\n",
       "      <td>0.067</td>\n",
       "      <td>0.085</td>\n",
       "      <td>0.090</td>\n",
       "      <td>0.097</td>\n",
       "      <td>0.077</td>\n",
       "      <td>0.087</td>\n",
       "      <td>1.000</td>\n",
       "      <td>0.076</td>\n",
       "    </tr>\n",
       "    <tr>\n",
       "      <th>T13</th>\n",
       "      <td>0.079</td>\n",
       "      <td>0.082</td>\n",
       "      <td>0.067</td>\n",
       "      <td>0.075</td>\n",
       "      <td>0.078</td>\n",
       "      <td>0.060</td>\n",
       "      <td>0.079</td>\n",
       "      <td>0.085</td>\n",
       "      <td>0.092</td>\n",
       "      <td>0.071</td>\n",
       "      <td>0.081</td>\n",
       "      <td>0.076</td>\n",
       "      <td>1.000</td>\n",
       "    </tr>\n",
       "  </tbody>\n",
       "</table>\n",
       "</div>"
      ],
      "text/plain": [
       "        T1     T2     T3     T4     T5     T6     T7     T8     T9    T10  \\\n",
       "T1   1.000  0.090  0.077  0.084  0.086  0.071  0.087  0.092  0.099  0.080   \n",
       "T2   0.090  1.000  0.080  0.086  0.088  0.074  0.090  0.095  0.101  0.083   \n",
       "T3   0.077  0.080  1.000  0.073  0.076  0.057  0.077  0.083  0.091  0.068   \n",
       "T4   0.084  0.086  0.073  1.000  0.082  0.066  0.084  0.089  0.096  0.076   \n",
       "T5   0.086  0.088  0.076  0.082  1.000  0.069  0.086  0.091  0.098  0.078   \n",
       "T6   0.071  0.074  0.057  0.066  0.069  1.000  0.071  0.078  0.086  0.061   \n",
       "T7   0.087  0.090  0.077  0.084  0.086  0.071  1.000  0.093  0.099  0.080   \n",
       "T8   0.092  0.095  0.083  0.089  0.091  0.078  0.093  1.000  0.103  0.086   \n",
       "T9   0.099  0.101  0.091  0.096  0.098  0.086  0.099  0.103  1.000  0.093   \n",
       "T10  0.080  0.083  0.068  0.076  0.078  0.061  0.080  0.086  0.093  1.000   \n",
       "T11  0.089  0.091  0.079  0.086  0.088  0.073  0.089  0.094  0.100  0.082   \n",
       "T12  0.085  0.087  0.074  0.081  0.083  0.067  0.085  0.090  0.097  0.077   \n",
       "T13  0.079  0.082  0.067  0.075  0.078  0.060  0.079  0.085  0.092  0.071   \n",
       "\n",
       "       T11    T12    T13  \n",
       "T1   0.089  0.085  0.079  \n",
       "T2   0.091  0.087  0.082  \n",
       "T3   0.079  0.074  0.067  \n",
       "T4   0.086  0.081  0.075  \n",
       "T5   0.088  0.083  0.078  \n",
       "T6   0.073  0.067  0.060  \n",
       "T7   0.089  0.085  0.079  \n",
       "T8   0.094  0.090  0.085  \n",
       "T9   0.100  0.097  0.092  \n",
       "T10  0.082  0.077  0.071  \n",
       "T11  1.000  0.087  0.081  \n",
       "T12  0.087  1.000  0.076  \n",
       "T13  0.081  0.076  1.000  "
      ]
     },
     "execution_count": 120,
     "metadata": {},
     "output_type": "execute_result"
    }
   ],
   "source": [
    "doc_topic_df.pcorr().round(3)"
   ]
  },
  {
   "cell_type": "code",
   "execution_count": null,
   "metadata": {},
   "outputs": [],
   "source": [
    "a = np.corrcoef(lda_output.T)\n",
    "a.shape"
   ]
  },
  {
   "cell_type": "code",
   "execution_count": 116,
   "metadata": {
    "execution": {
     "iopub.execute_input": "2023-05-16T00:42:58.261841Z",
     "iopub.status.busy": "2023-05-16T00:42:58.261300Z",
     "iopub.status.idle": "2023-05-16T00:42:58.269674Z",
     "shell.execute_reply": "2023-05-16T00:42:58.267479Z",
     "shell.execute_reply.started": "2023-05-16T00:42:58.261798Z"
    }
   },
   "outputs": [],
   "source": [
    "import seaborn as sns"
   ]
  },
  {
   "cell_type": "code",
   "execution_count": 113,
   "metadata": {
    "execution": {
     "iopub.execute_input": "2023-05-16T00:41:14.349652Z",
     "iopub.status.busy": "2023-05-16T00:41:14.349148Z",
     "iopub.status.idle": "2023-05-16T00:41:14.356234Z",
     "shell.execute_reply": "2023-05-16T00:41:14.355028Z",
     "shell.execute_reply.started": "2023-05-16T00:41:14.349610Z"
    }
   },
   "outputs": [],
   "source": [
    "label = [\"T1\",\"T2\",\"T3\",\"T4\",\"T5\",\"T6\",\"T7\",\"T8\",\"T9\",\"T10\",\"T11\",\"T12\",\"T13\"]"
   ]
  },
  {
   "cell_type": "code",
   "execution_count": 114,
   "metadata": {
    "execution": {
     "iopub.execute_input": "2023-05-16T00:41:20.960989Z",
     "iopub.status.busy": "2023-05-16T00:41:20.960227Z",
     "iopub.status.idle": "2023-05-16T00:41:20.970361Z",
     "shell.execute_reply": "2023-05-16T00:41:20.968967Z",
     "shell.execute_reply.started": "2023-05-16T00:41:20.960944Z"
    }
   },
   "outputs": [],
   "source": [
    "l = pd.DataFrame(doc_topic_df,index=label,columns=label)\n"
   ]
  },
  {
   "cell_type": "code",
   "execution_count": null,
   "metadata": {
    "execution": {
     "iopub.execute_input": "2023-05-16T01:06:52.062476Z",
     "iopub.status.busy": "2023-05-16T01:06:52.061948Z",
     "iopub.status.idle": "2023-05-16T01:06:53.182229Z",
     "shell.execute_reply": "2023-05-16T01:06:53.181235Z",
     "shell.execute_reply.started": "2023-05-16T01:06:52.062428Z"
    }
   },
   "outputs": [],
   "source": [
    "plt.figure(figsize=(8,6))\n",
    "label = [\"T1\",\"T2\",\"T3\",\"T4\",\"T5\",\"T6\",\"T7\",\"T8\",\"T9\",\"T10\",\"T11\",\"T12\",\"T13\"]\n",
    "sns.heatmap(doc_topic_df.pcorr().round(1),annot=True,cmap='RdYlGn',vmin=0.04, vmax=0.12)"
   ]
  },
  {
   "cell_type": "code",
   "execution_count": 80,
   "metadata": {
    "execution": {
     "iopub.execute_input": "2023-05-12T23:31:56.262073Z",
     "iopub.status.busy": "2023-05-12T23:31:56.261568Z",
     "iopub.status.idle": "2023-05-12T23:31:56.296857Z",
     "shell.execute_reply": "2023-05-12T23:31:56.295474Z",
     "shell.execute_reply.started": "2023-05-12T23:31:56.262025Z"
    }
   },
   "outputs": [
    {
     "data": {
      "text/html": [
       "<div>\n",
       "<style scoped>\n",
       "    .dataframe tbody tr th:only-of-type {\n",
       "        vertical-align: middle;\n",
       "    }\n",
       "\n",
       "    .dataframe tbody tr th {\n",
       "        vertical-align: top;\n",
       "    }\n",
       "\n",
       "    .dataframe thead th {\n",
       "        text-align: right;\n",
       "    }\n",
       "</style>\n",
       "<table border=\"1\" class=\"dataframe\">\n",
       "  <thead>\n",
       "    <tr style=\"text-align: right;\">\n",
       "      <th></th>\n",
       "      <th>0</th>\n",
       "      <th>1</th>\n",
       "      <th>2</th>\n",
       "      <th>3</th>\n",
       "      <th>4</th>\n",
       "      <th>5</th>\n",
       "      <th>6</th>\n",
       "      <th>7</th>\n",
       "      <th>8</th>\n",
       "      <th>9</th>\n",
       "      <th>10</th>\n",
       "      <th>11</th>\n",
       "      <th>12</th>\n",
       "      <th>13</th>\n",
       "      <th>14</th>\n",
       "    </tr>\n",
       "  </thead>\n",
       "  <tbody>\n",
       "    <tr>\n",
       "      <th>abl</th>\n",
       "      <td>0.066667</td>\n",
       "      <td>0.066667</td>\n",
       "      <td>0.066667</td>\n",
       "      <td>0.066667</td>\n",
       "      <td>0.066667</td>\n",
       "      <td>0.066667</td>\n",
       "      <td>0.066667</td>\n",
       "      <td>0.066667</td>\n",
       "      <td>0.066667</td>\n",
       "      <td>0.066667</td>\n",
       "      <td>0.066667</td>\n",
       "      <td>0.066667</td>\n",
       "      <td>0.066667</td>\n",
       "      <td>6.066667</td>\n",
       "      <td>0.066667</td>\n",
       "    </tr>\n",
       "    <tr>\n",
       "      <th>acceler</th>\n",
       "      <td>0.066667</td>\n",
       "      <td>0.066667</td>\n",
       "      <td>0.066667</td>\n",
       "      <td>0.066667</td>\n",
       "      <td>0.066667</td>\n",
       "      <td>17.066667</td>\n",
       "      <td>0.066667</td>\n",
       "      <td>0.066667</td>\n",
       "      <td>0.066667</td>\n",
       "      <td>0.066667</td>\n",
       "      <td>0.066667</td>\n",
       "      <td>0.066667</td>\n",
       "      <td>0.066667</td>\n",
       "      <td>0.066667</td>\n",
       "      <td>0.066667</td>\n",
       "    </tr>\n",
       "    <tr>\n",
       "      <th>accept</th>\n",
       "      <td>0.066667</td>\n",
       "      <td>0.066667</td>\n",
       "      <td>0.066667</td>\n",
       "      <td>0.066667</td>\n",
       "      <td>0.066667</td>\n",
       "      <td>10.066667</td>\n",
       "      <td>0.066667</td>\n",
       "      <td>0.066667</td>\n",
       "      <td>0.066667</td>\n",
       "      <td>0.066667</td>\n",
       "      <td>0.066667</td>\n",
       "      <td>0.066667</td>\n",
       "      <td>0.066667</td>\n",
       "      <td>0.066667</td>\n",
       "      <td>0.066667</td>\n",
       "    </tr>\n",
       "    <tr>\n",
       "      <th>access</th>\n",
       "      <td>0.066667</td>\n",
       "      <td>0.066667</td>\n",
       "      <td>0.066667</td>\n",
       "      <td>0.066667</td>\n",
       "      <td>0.066667</td>\n",
       "      <td>0.066667</td>\n",
       "      <td>0.066667</td>\n",
       "      <td>0.066667</td>\n",
       "      <td>0.066667</td>\n",
       "      <td>0.066667</td>\n",
       "      <td>0.066667</td>\n",
       "      <td>34.066667</td>\n",
       "      <td>0.066667</td>\n",
       "      <td>0.066667</td>\n",
       "      <td>0.066667</td>\n",
       "    </tr>\n",
       "    <tr>\n",
       "      <th>account</th>\n",
       "      <td>10.066667</td>\n",
       "      <td>0.066667</td>\n",
       "      <td>0.066667</td>\n",
       "      <td>0.066667</td>\n",
       "      <td>0.066667</td>\n",
       "      <td>0.066667</td>\n",
       "      <td>0.066667</td>\n",
       "      <td>0.066667</td>\n",
       "      <td>0.066667</td>\n",
       "      <td>0.066667</td>\n",
       "      <td>0.066667</td>\n",
       "      <td>0.066667</td>\n",
       "      <td>0.066667</td>\n",
       "      <td>0.066667</td>\n",
       "      <td>0.066667</td>\n",
       "    </tr>\n",
       "    <tr>\n",
       "      <th>...</th>\n",
       "      <td>...</td>\n",
       "      <td>...</td>\n",
       "      <td>...</td>\n",
       "      <td>...</td>\n",
       "      <td>...</td>\n",
       "      <td>...</td>\n",
       "      <td>...</td>\n",
       "      <td>...</td>\n",
       "      <td>...</td>\n",
       "      <td>...</td>\n",
       "      <td>...</td>\n",
       "      <td>...</td>\n",
       "      <td>...</td>\n",
       "      <td>...</td>\n",
       "      <td>...</td>\n",
       "    </tr>\n",
       "    <tr>\n",
       "      <th>world</th>\n",
       "      <td>0.066667</td>\n",
       "      <td>0.066667</td>\n",
       "      <td>0.066667</td>\n",
       "      <td>0.066667</td>\n",
       "      <td>0.066667</td>\n",
       "      <td>0.066667</td>\n",
       "      <td>0.066667</td>\n",
       "      <td>0.066667</td>\n",
       "      <td>0.066667</td>\n",
       "      <td>0.066667</td>\n",
       "      <td>40.066667</td>\n",
       "      <td>0.066667</td>\n",
       "      <td>0.066667</td>\n",
       "      <td>0.066667</td>\n",
       "      <td>0.066667</td>\n",
       "    </tr>\n",
       "    <tr>\n",
       "      <th>year</th>\n",
       "      <td>0.066667</td>\n",
       "      <td>0.066667</td>\n",
       "      <td>0.066667</td>\n",
       "      <td>0.066667</td>\n",
       "      <td>0.066667</td>\n",
       "      <td>0.066667</td>\n",
       "      <td>49.066667</td>\n",
       "      <td>0.066667</td>\n",
       "      <td>0.066667</td>\n",
       "      <td>0.066667</td>\n",
       "      <td>0.066667</td>\n",
       "      <td>0.066667</td>\n",
       "      <td>0.066667</td>\n",
       "      <td>0.066667</td>\n",
       "      <td>0.066667</td>\n",
       "    </tr>\n",
       "    <tr>\n",
       "      <th>youth</th>\n",
       "      <td>0.066667</td>\n",
       "      <td>0.066667</td>\n",
       "      <td>0.066667</td>\n",
       "      <td>0.066667</td>\n",
       "      <td>0.066667</td>\n",
       "      <td>0.066667</td>\n",
       "      <td>0.066667</td>\n",
       "      <td>0.066667</td>\n",
       "      <td>0.066667</td>\n",
       "      <td>0.066667</td>\n",
       "      <td>0.066667</td>\n",
       "      <td>0.066667</td>\n",
       "      <td>10.066667</td>\n",
       "      <td>0.066667</td>\n",
       "      <td>0.066667</td>\n",
       "    </tr>\n",
       "    <tr>\n",
       "      <th>zero</th>\n",
       "      <td>0.066667</td>\n",
       "      <td>0.066667</td>\n",
       "      <td>0.066667</td>\n",
       "      <td>0.066667</td>\n",
       "      <td>0.066667</td>\n",
       "      <td>7.066667</td>\n",
       "      <td>0.066667</td>\n",
       "      <td>0.066667</td>\n",
       "      <td>0.066667</td>\n",
       "      <td>0.066667</td>\n",
       "      <td>0.066667</td>\n",
       "      <td>0.066667</td>\n",
       "      <td>0.066667</td>\n",
       "      <td>0.066667</td>\n",
       "      <td>0.066667</td>\n",
       "    </tr>\n",
       "    <tr>\n",
       "      <th>zone</th>\n",
       "      <td>0.066667</td>\n",
       "      <td>0.066667</td>\n",
       "      <td>0.066667</td>\n",
       "      <td>0.066667</td>\n",
       "      <td>0.066667</td>\n",
       "      <td>6.066667</td>\n",
       "      <td>0.066667</td>\n",
       "      <td>0.066667</td>\n",
       "      <td>0.066667</td>\n",
       "      <td>0.066667</td>\n",
       "      <td>0.066667</td>\n",
       "      <td>0.066667</td>\n",
       "      <td>0.066667</td>\n",
       "      <td>0.066667</td>\n",
       "      <td>0.066667</td>\n",
       "    </tr>\n",
       "  </tbody>\n",
       "</table>\n",
       "<p>716 rows × 15 columns</p>\n",
       "</div>"
      ],
      "text/plain": [
       "                0         1         2         3         4          5   \\\n",
       "abl       0.066667  0.066667  0.066667  0.066667  0.066667   0.066667   \n",
       "acceler   0.066667  0.066667  0.066667  0.066667  0.066667  17.066667   \n",
       "accept    0.066667  0.066667  0.066667  0.066667  0.066667  10.066667   \n",
       "access    0.066667  0.066667  0.066667  0.066667  0.066667   0.066667   \n",
       "account  10.066667  0.066667  0.066667  0.066667  0.066667   0.066667   \n",
       "...            ...       ...       ...       ...       ...        ...   \n",
       "world     0.066667  0.066667  0.066667  0.066667  0.066667   0.066667   \n",
       "year      0.066667  0.066667  0.066667  0.066667  0.066667   0.066667   \n",
       "youth     0.066667  0.066667  0.066667  0.066667  0.066667   0.066667   \n",
       "zero      0.066667  0.066667  0.066667  0.066667  0.066667   7.066667   \n",
       "zone      0.066667  0.066667  0.066667  0.066667  0.066667   6.066667   \n",
       "\n",
       "                6         7         8         9          10         11  \\\n",
       "abl       0.066667  0.066667  0.066667  0.066667   0.066667   0.066667   \n",
       "acceler   0.066667  0.066667  0.066667  0.066667   0.066667   0.066667   \n",
       "accept    0.066667  0.066667  0.066667  0.066667   0.066667   0.066667   \n",
       "access    0.066667  0.066667  0.066667  0.066667   0.066667  34.066667   \n",
       "account   0.066667  0.066667  0.066667  0.066667   0.066667   0.066667   \n",
       "...            ...       ...       ...       ...        ...        ...   \n",
       "world     0.066667  0.066667  0.066667  0.066667  40.066667   0.066667   \n",
       "year     49.066667  0.066667  0.066667  0.066667   0.066667   0.066667   \n",
       "youth     0.066667  0.066667  0.066667  0.066667   0.066667   0.066667   \n",
       "zero      0.066667  0.066667  0.066667  0.066667   0.066667   0.066667   \n",
       "zone      0.066667  0.066667  0.066667  0.066667   0.066667   0.066667   \n",
       "\n",
       "                12        13        14  \n",
       "abl       0.066667  6.066667  0.066667  \n",
       "acceler   0.066667  0.066667  0.066667  \n",
       "accept    0.066667  0.066667  0.066667  \n",
       "access    0.066667  0.066667  0.066667  \n",
       "account   0.066667  0.066667  0.066667  \n",
       "...            ...       ...       ...  \n",
       "world     0.066667  0.066667  0.066667  \n",
       "year      0.066667  0.066667  0.066667  \n",
       "youth    10.066667  0.066667  0.066667  \n",
       "zero      0.066667  0.066667  0.066667  \n",
       "zone      0.066667  0.066667  0.066667  \n",
       "\n",
       "[716 rows x 15 columns]"
      ]
     },
     "execution_count": 80,
     "metadata": {},
     "output_type": "execute_result"
    }
   ],
   "source": [
    "topic_word_matrix = lda_model.components_\n",
    "pd.DataFrame(topic_word_matrix, columns=vocab).T"
   ]
  },
  {
   "cell_type": "markdown",
   "metadata": {},
   "source": [
    "# Choose number of component k=6"
   ]
  },
  {
   "cell_type": "code",
   "execution_count": 110,
   "metadata": {
    "execution": {
     "iopub.execute_input": "2023-05-13T02:51:07.382072Z",
     "iopub.status.busy": "2023-05-13T02:51:07.380628Z",
     "iopub.status.idle": "2023-05-13T02:58:53.365808Z",
     "shell.execute_reply": "2023-05-13T02:58:53.364392Z",
     "shell.execute_reply.started": "2023-05-13T02:51:07.381994Z"
    }
   },
   "outputs": [],
   "source": [
    "lda_model_group = LatentDirichletAllocation(n_components=6, max_iter=500, random_state=42)\n",
    "\n",
    "# Entraînement du modèle LDA\n",
    "lda_output_group = lda_model_group.fit_transform(data_vectorized)"
   ]
  },
  {
   "cell_type": "code",
   "execution_count": 112,
   "metadata": {
    "execution": {
     "iopub.execute_input": "2023-05-13T02:58:56.168875Z",
     "iopub.status.busy": "2023-05-13T02:58:56.168455Z",
     "iopub.status.idle": "2023-05-13T02:58:57.384509Z",
     "shell.execute_reply": "2023-05-13T02:58:57.383168Z",
     "shell.execute_reply.started": "2023-05-13T02:58:56.168832Z"
    }
   },
   "outputs": [
    {
     "data": {
      "text/html": [
       "\n",
       "<link rel=\"stylesheet\" type=\"text/css\" href=\"https://cdn.jsdelivr.net/gh/bmabey/pyLDAvis@3.2.2/pyLDAvis/js/ldavis.v1.0.0.css\">\n",
       "\n",
       "\n",
       "<div id=\"ldavis_el271364254221666082781358854\"></div>\n",
       "<script type=\"text/javascript\">\n",
       "\n",
       "var ldavis_el271364254221666082781358854_data = {\"mdsDat\": {\"x\": [1.4650187492370605, 54.85479736328125, 32.212928771972656, 5.111096382141113, 26.350170135498047, 38.10981750488281], \"y\": [-47.625064849853516, -36.4767951965332, -61.44457244873047, -14.110331535339355, -33.37470245361328, -7.222781181335449], \"topics\": [1, 2, 3, 4, 5, 6], \"cluster\": [1, 1, 1, 1, 1, 1], \"Freq\": [17.93608561359869, 16.950983752486636, 16.654655209035194, 16.426397447651127, 16.306263464205973, 15.725614513022387]}, \"tinfo\": {\"Term\": [\"energi\", \"renew\", \"south\", \"develop\", \"power\", \"transit\", \"project\", \"africa\", \"solar\", \"cooki\", \"use\", \"wind\", \"enel\", \"african\", \"support\", \"industri\", \"provid\", \"manag\", \"eskom\", \"new\", \"programm\", \"polici\", \"csir\", \"job\", \"sector\", \"site\", \"oper\", \"sustain\", \"plan\", \"technolog\", \"energi\", \"africa\", \"project\", \"wind\", \"programm\", \"sector\", \"work\", \"sasol\", \"includ\", \"gener\", \"year\", \"electr\", \"busi\", \"group\", \"potenti\", \"competit\", \"para\", \"foundat\", \"integr\", \"hold\", \"addit\", \"stakehold\", \"result\", \"follow\", \"resafrica\", \"acceler\", \"emiss\", \"import\", \"model\", \"art\", \"renew\", \"manag\", \"new\", \"sustain\", \"servic\", \"produc\", \"improv\", \"inform\", \"chang\", \"plant\", \"independ\", \"need\", \"local\", \"close\", \"pleas\", \"growth\", \"public\", \"solut\", \"allow\", \"engin\", \"studi\", \"partner\", \"suppli\", \"right\", \"posit\", \"onlin\", \"role\", \"copyright\", \"custom\", \"economi\", \"develop\", \"power\", \"enel\", \"support\", \"industri\", \"job\", \"oper\", \"technolog\", \"opportun\", \"econom\", \"green\", \"resourc\", \"procur\", \"facil\", \"access\", \"reipppp\", \"research\", \"continu\", \"financi\", \"requir\", \"help\", \"transform\", \"climat\", \"commit\", \"ipp\", \"region\", \"process\", \"initi\", \"council\", \"propos\", \"issu\", \"transit\", \"solar\", \"csir\", \"countri\", \"invest\", \"experi\", \"nation\", \"futur\", \"coal\", \"world\", \"report\", \"implement\", \"construct\", \"area\", \"market\", \"websit\", \"privaci\", \"achiev\", \"term\", \"cape\", \"reserv\", \"offer\", \"content\", \"energia\", \"intern\", \"socioeconom\", \"clean\", \"scienc\", \"engag\", \"station\", \"financ\", \"south\", \"cooki\", \"provid\", \"eskom\", \"plan\", \"global\", \"commun\", \"edp\", \"farm\", \"innov\", \"govern\", \"lead\", \"media\", \"peopl\", \"contribut\", \"applic\", \"make\", \"capac\", \"depart\", \"agreement\", \"window\", \"grid\", \"featur\", \"way\", \"join\", \"bidder\", \"repv\", \"time\", \"look\", \"storag\", \"use\", \"african\", \"polici\", \"site\", \"social\", \"creat\", \"bid\", \"ensur\", \"challeng\", \"impact\", \"compani\", \"valu\", \"activ\", \"base\", \"open\", \"aim\", \"chain\", \"said\", \"design\", \"benefit\", \"share\", \"irp\", \"want\", \"collabor\", \"round\", \"organis\", \"set\", \"key\", \"state\", \"carbon\"], \"Freq\": [421.0, 189.0, 171.0, 167.0, 147.0, 137.0, 124.0, 124.0, 114.0, 110.0, 101.0, 104.0, 96.0, 81.0, 75.0, 72.0, 70.0, 68.0, 65.0, 67.0, 69.0, 63.0, 64.0, 63.0, 61.0, 55.0, 57.0, 57.0, 55.0, 55.0, 420.9441795952796, 123.80709524923724, 123.80709524923724, 103.34555949250861, 68.64991188987544, 60.64322397603914, 57.08469601312441, 56.19506402225352, 46.40911211775822, 45.51948012587924, 43.74021614176026, 39.29205617897146, 32.17500022800491, 26.83720825088563, 25.057944254342694, 22.389048253884983, 21.499416251848178, 18.83052023818279, 17.94088823047332, 17.940888230473316, 17.940888230473263, 17.940888230473163, 17.05125622076738, 15.271992193940223, 15.271992193940147, 15.271992193940122, 15.271992193940074, 15.27199219394003, 15.271992193939926, 14.382360175880379, 188.38526417486966, 67.24715789455223, 66.31532630686515, 56.99701042744359, 51.4060208968732, 41.15587341497466, 38.360378644109424, 38.36037864410941, 36.49671546249858, 35.56488387133372, 31.837557503781802, 30.905725911038363, 29.973894317888227, 29.042062724291718, 27.178399535573647, 27.178399535573607, 26.246567940342313, 25.314736344442696, 23.45107315031529, 23.45107315031528, 23.45107315031525, 23.451073150315246, 22.5192415518918, 22.519241551891795, 21.587409952402737, 21.58740995240272, 21.587409952402723, 21.58740995240271, 21.5874099524027, 21.58740995240266, 166.71958389278385, 146.84572370030332, 95.74151176645394, 74.92127726537124, 72.08215437798843, 62.61841141773088, 56.94016563932406, 55.047417046029445, 45.58367407447408, 41.79817688261349, 38.95905398699757, 37.06630538891098, 35.17355678986331, 32.334433889116596, 32.33443388911658, 31.388059588181495, 31.38805958818149, 30.4416852868494, 29.495310985081606, 28.548936682834196, 24.763439467933534, 24.76343946793353, 21.92431654837359, 21.92431654837358, 21.9243165483735, 20.977942239670497, 18.138819304573556, 17.192444989037483, 16.246070671011623, 16.246070671011598, 16.24607067101159, 136.23288794987107, 114.1928628727124, 63.40497897431495, 49.989311513553154, 45.198001702049716, 44.23973973937802, 44.23973973937802, 43.28147777656331, 42.323215813595844, 38.49016795996772, 38.490167959967714, 36.57364403190338, 34.65712010281921, 33.69885813783973, 31.78233420687271, 30.824072240821728, 29.865810274343275, 27.949286339925955, 25.074500433799784, 23.157976492499728, 23.157976492499696, 23.157976492499696, 23.157976492499657, 20.283190572485918, 20.28319057248591, 19.324928596346094, 19.324928596346066, 18.36666661843278, 18.366666618432742, 17.40840463844707, 17.40840463844706, 170.92621126931166, 110.1452934950554, 69.62468162481083, 64.80079925638036, 55.15303451577806, 52.258705092299195, 52.25870509229918, 45.505269767522556, 43.57571681650205, 40.6813873888082, 39.71661091255454, 34.892728527946986, 32.96317557217695, 30.06884613578678, 29.104069656113836, 28.139293175926703, 26.209740213779728, 25.24496373168243, 23.31541076501009, 23.315410765010057, 22.35063428021763, 21.38585779427626, 19.456304818250455, 19.456304818250395, 19.45630481825039, 19.45630481825038, 18.49152832772524, 18.491528327725238, 18.49152832772519, 17.52675183514888, 101.07226415085, 81.09092307093123, 63.107716090378005, 55.115179649750985, 42.1273079214887, 38.131039692341226, 34.13477145932783, 33.1357044003047, 32.13663734091549, 31.13757028112465, 31.13757028112465, 31.137570281124642, 28.140369098908508, 27.14130203704509, 26.14223497451035, 25.143167911223042, 22.14596671581035, 22.145966715810342, 20.147832579507877, 20.147832579507853, 20.147832579507845, 20.147832579507842, 19.148765508971394, 19.14876550897138, 19.148765508971366, 19.14876550897135, 18.14969843648756, 18.14969843648754, 18.149698436487498, 16.15156428419878], \"Total\": [421.0, 189.0, 171.0, 167.0, 147.0, 137.0, 124.0, 124.0, 114.0, 110.0, 101.0, 104.0, 96.0, 81.0, 75.0, 72.0, 70.0, 68.0, 65.0, 67.0, 69.0, 63.0, 64.0, 63.0, 61.0, 55.0, 57.0, 57.0, 55.0, 55.0, 421.74425652535655, 124.60717222179865, 124.60717222179865, 104.14563647701547, 69.44998891099107, 61.44330101158458, 57.88477305638999, 56.99514106760281, 47.20918919133886, 46.319557202632694, 44.54029322524947, 40.09213328199161, 32.97507737362372, 27.63728544346499, 25.858021467080704, 23.189125502958003, 22.299493515068608, 19.630597552007906, 18.740965564574633, 18.740965564574633, 18.74096556457464, 18.740965564574644, 17.851333577301897, 16.072069603352638, 16.07206960335265, 16.072069603352652, 16.072069603352652, 16.072069603352656, 16.072069603352663, 15.1824376167516, 189.1783048422609, 68.0401986278097, 67.10836704156684, 57.790051179200695, 52.199061661851694, 41.94891421360143, 39.153419455062284, 39.15341945506228, 37.289756282727915, 36.35792469656946, 32.63059835200579, 31.69876676588563, 30.76693517977533, 29.83510359367585, 27.97144042151388, 27.97144042151388, 27.03960883545405, 26.107777249410436, 24.24411407737967, 24.244114077379667, 24.244114077379663, 24.24411407737967, 23.312282491397262, 23.312282491397262, 22.380450905440707, 22.380450905440696, 22.3804509054407, 22.3804509054407, 22.380450905440707, 22.380450905440703, 167.510199863966, 147.6363396769144, 96.53212776741265, 75.7118932858172, 72.87277040196824, 63.40902745581773, 57.73078168814004, 55.83803309891685, 46.37429015282979, 42.588792974413145, 39.7496700906103, 37.856921501414085, 35.96417291222323, 33.12505002844921, 33.1250500284492, 32.17867573386169, 32.178675733861695, 31.232301439276434, 30.28592714469362, 29.33955285011349, 25.554055671826116, 25.554055671826116, 22.714932788157657, 22.714932788157657, 22.71493278815766, 21.76855849361376, 18.929435610032495, 17.983061315526935, 17.036687021035355, 17.03668702103536, 17.036687021035355, 137.02152194358234, 114.98149687570664, 64.19361302341021, 50.77794559057892, 45.98663579310091, 45.0283738336018, 45.0283738336018, 44.07011187410135, 43.111849914599496, 39.2788020765755, 39.2788020765755, 37.3622781575518, 35.44575423851851, 34.487492278997756, 32.57096835994683, 31.61270640041604, 30.654444440881235, 28.73792052179792, 25.86313464313074, 23.946610723982864, 23.946610723982868, 23.94661072398287, 23.946610723982868, 21.071824845185407, 21.071824845185404, 20.11356288555998, 20.11356288555996, 19.1553009259179, 19.155300925917892, 18.197038966256386, 18.19703896625639, 171.71375912697, 110.93284137361253, 70.4122295376774, 65.58834717620546, 55.9405824531959, 53.04625303627031, 53.04625303627029, 46.292817730052306, 44.363264785399615, 41.468935368400196, 40.50415889606086, 35.680276534305555, 33.75072358956973, 30.856394172418085, 29.89161770001886, 28.926841227610634, 26.997288282763147, 26.032511810321477, 24.10295886539476, 24.102958865394758, 23.138182392905904, 22.173405920396934, 20.24385297530646, 20.243852975306464, 20.24385297530646, 20.24385297530646, 19.27907650271724, 19.27907650271724, 19.279076502717235, 18.31430003009211, 101.85409511546081, 81.87275405044147, 63.8895470914126, 55.89701066489125, 42.909138971067854, 38.91287075728322, 34.916602543269285, 33.91753548972015, 32.91846843614929, 31.919401382554607, 31.91940138255461, 31.91940138255461, 28.92220022160191, 27.9231331678843, 26.924066114126866, 25.924999060324794, 22.92779789858935, 22.927797898589354, 20.929663790408224, 20.92966379040822, 20.92966379040822, 20.92966379040822, 19.930596736176177, 19.930596736176177, 19.93059673617617, 19.93059673617617, 18.931529681828625, 18.931529681828625, 18.93152968182862, 16.933395572699276], \"Category\": [\"Default\", \"Default\", \"Default\", \"Default\", \"Default\", \"Default\", \"Default\", \"Default\", \"Default\", \"Default\", \"Default\", \"Default\", \"Default\", \"Default\", \"Default\", \"Default\", \"Default\", \"Default\", \"Default\", \"Default\", \"Default\", \"Default\", \"Default\", \"Default\", \"Default\", \"Default\", \"Default\", \"Default\", \"Default\", \"Default\", \"Topic1\", \"Topic1\", \"Topic1\", \"Topic1\", \"Topic1\", \"Topic1\", \"Topic1\", \"Topic1\", \"Topic1\", \"Topic1\", \"Topic1\", \"Topic1\", \"Topic1\", \"Topic1\", \"Topic1\", \"Topic1\", \"Topic1\", \"Topic1\", \"Topic1\", \"Topic1\", \"Topic1\", \"Topic1\", \"Topic1\", \"Topic1\", \"Topic1\", \"Topic1\", \"Topic1\", \"Topic1\", \"Topic1\", \"Topic1\", \"Topic2\", \"Topic2\", \"Topic2\", \"Topic2\", \"Topic2\", \"Topic2\", \"Topic2\", \"Topic2\", \"Topic2\", \"Topic2\", \"Topic2\", \"Topic2\", \"Topic2\", \"Topic2\", \"Topic2\", \"Topic2\", \"Topic2\", \"Topic2\", \"Topic2\", \"Topic2\", \"Topic2\", \"Topic2\", \"Topic2\", \"Topic2\", \"Topic2\", \"Topic2\", \"Topic2\", \"Topic2\", \"Topic2\", \"Topic2\", \"Topic3\", \"Topic3\", \"Topic3\", \"Topic3\", \"Topic3\", \"Topic3\", \"Topic3\", \"Topic3\", \"Topic3\", \"Topic3\", \"Topic3\", \"Topic3\", \"Topic3\", \"Topic3\", \"Topic3\", \"Topic3\", \"Topic3\", \"Topic3\", \"Topic3\", \"Topic3\", \"Topic3\", \"Topic3\", \"Topic3\", \"Topic3\", \"Topic3\", \"Topic3\", \"Topic3\", \"Topic3\", \"Topic3\", \"Topic3\", \"Topic3\", \"Topic4\", \"Topic4\", \"Topic4\", \"Topic4\", \"Topic4\", \"Topic4\", \"Topic4\", \"Topic4\", \"Topic4\", \"Topic4\", \"Topic4\", \"Topic4\", \"Topic4\", \"Topic4\", \"Topic4\", \"Topic4\", \"Topic4\", \"Topic4\", \"Topic4\", \"Topic4\", \"Topic4\", \"Topic4\", \"Topic4\", \"Topic4\", \"Topic4\", \"Topic4\", \"Topic4\", \"Topic4\", \"Topic4\", \"Topic4\", \"Topic4\", \"Topic5\", \"Topic5\", \"Topic5\", \"Topic5\", \"Topic5\", \"Topic5\", \"Topic5\", \"Topic5\", \"Topic5\", \"Topic5\", \"Topic5\", \"Topic5\", \"Topic5\", \"Topic5\", \"Topic5\", \"Topic5\", \"Topic5\", \"Topic5\", \"Topic5\", \"Topic5\", \"Topic5\", \"Topic5\", \"Topic5\", \"Topic5\", \"Topic5\", \"Topic5\", \"Topic5\", \"Topic5\", \"Topic5\", \"Topic5\", \"Topic6\", \"Topic6\", \"Topic6\", \"Topic6\", \"Topic6\", \"Topic6\", \"Topic6\", \"Topic6\", \"Topic6\", \"Topic6\", \"Topic6\", \"Topic6\", \"Topic6\", \"Topic6\", \"Topic6\", \"Topic6\", \"Topic6\", \"Topic6\", \"Topic6\", \"Topic6\", \"Topic6\", \"Topic6\", \"Topic6\", \"Topic6\", \"Topic6\", \"Topic6\", \"Topic6\", \"Topic6\", \"Topic6\", \"Topic6\"], \"logprob\": [30.0, 29.0, 28.0, 27.0, 26.0, 25.0, 24.0, 23.0, 22.0, 21.0, 20.0, 19.0, 18.0, 17.0, 16.0, 15.0, 14.0, 13.0, 12.0, 11.0, 10.0, 9.0, 8.0, 7.0, 6.0, 5.0, 4.0, 3.0, 2.0, 1.0, -1.6715, -2.8953, -2.8953, -3.0759, -3.485, -3.609, -3.6695, -3.6852, -3.8765, -3.8959, -3.9357, -4.043, -4.2428, -4.4242, -4.4928, -4.6054, -4.646, -4.7785, -4.8269, -4.8269, -4.8269, -4.8269, -4.8778, -4.988, -4.988, -4.988, -4.988, -4.988, -4.988, -5.048, -2.419, -3.4491, -3.4631, -3.6145, -3.7178, -3.9402, -4.0105, -4.0105, -4.0603, -4.0862, -4.1969, -4.2266, -4.2572, -4.2888, -4.3551, -4.3551, -4.39, -4.4261, -4.5026, -4.5026, -4.5026, -4.5026, -4.5431, -4.5431, -4.5854, -4.5854, -4.5854, -4.5854, -4.5854, -4.5854, -2.5236, -2.6505, -3.0782, -3.3234, -3.3621, -3.5028, -3.5979, -3.6317, -3.8203, -3.907, -3.9774, -4.0272, -4.0796, -4.1638, -4.1638, -4.1935, -4.1935, -4.2241, -4.2557, -4.2883, -4.4305, -4.4305, -4.5523, -4.5523, -4.5523, -4.5964, -4.7418, -4.7954, -4.852, -4.852, -4.852, -2.7117, -2.8882, -3.4765, -3.7143, -3.815, -3.8365, -3.8365, -3.8584, -3.8807, -3.9757, -3.9757, -4.0268, -4.0806, -4.1086, -4.1672, -4.1978, -4.2294, -4.2957, -4.4042, -4.4837, -4.4837, -4.4837, -4.4837, -4.6163, -4.6163, -4.6647, -4.6647, -4.7155, -4.7155, -4.7691, -4.7691, -2.4775, -2.9169, -3.3756, -3.4474, -3.6086, -3.6625, -3.6625, -3.8009, -3.8442, -3.913, -3.937, -4.0665, -4.1234, -4.2153, -4.2479, -4.2816, -4.3526, -4.3901, -4.4696, -4.4696, -4.5119, -4.556, -4.6506, -4.6506, -4.6506, -4.6506, -4.7014, -4.7014, -4.7014, -4.755, -2.9666, -3.1869, -3.4376, -3.5731, -3.8418, -3.9415, -4.0522, -4.0819, -4.1125, -4.1441, -4.1441, -4.1441, -4.2453, -4.2814, -4.3189, -4.3579, -4.4848, -4.4848, -4.5794, -4.5794, -4.5794, -4.5794, -4.6302, -4.6302, -4.6302, -4.6302, -4.6838, -4.6838, -4.6838, -4.8005], \"loglift\": [30.0, 29.0, 28.0, 27.0, 26.0, 25.0, 24.0, 23.0, 22.0, 21.0, 20.0, 19.0, 18.0, 17.0, 16.0, 15.0, 14.0, 13.0, 12.0, 11.0, 10.0, 9.0, 8.0, 7.0, 6.0, 5.0, 4.0, 3.0, 2.0, 1.0, 1.7165, 1.7119, 1.7119, 1.7106, 1.7068, 1.7052, 1.7044, 1.7042, 1.7013, 1.7009, 1.7002, 1.6982, 1.6938, 1.689, 1.6869, 1.6832, 1.6818, 1.6767, 1.6747, 1.6747, 1.6747, 1.6747, 1.6725, 1.6673, 1.6673, 1.6673, 1.6673, 1.6673, 1.6673, 1.6642, 1.7706, 1.7631, 1.763, 1.761, 1.7595, 1.7558, 1.7544, 1.7544, 1.7533, 1.7528, 1.7502, 1.7495, 1.7487, 1.7479, 1.7461, 1.7461, 1.7451, 1.744, 1.7416, 1.7416, 1.7416, 1.7416, 1.7402, 1.7402, 1.7388, 1.7388, 1.7388, 1.7388, 1.7388, 1.7388, 1.7877, 1.7871, 1.7843, 1.782, 1.7816, 1.7799, 1.7787, 1.7782, 1.7753, 1.7737, 1.7724, 1.7714, 1.7703, 1.7683, 1.7683, 1.7676, 1.7676, 1.7668, 1.766, 1.7652, 1.7611, 1.7611, 1.7571, 1.7571, 1.7571, 1.7555, 1.7498, 1.7475, 1.745, 1.745, 1.745, 1.8005, 1.7994, 1.7939, 1.7906, 1.789, 1.7886, 1.7886, 1.7882, 1.7878, 1.786, 1.786, 1.7849, 1.7838, 1.7831, 1.7818, 1.781, 1.7802, 1.7785, 1.7753, 1.7728, 1.7728, 1.7728, 1.7728, 1.7681, 1.7681, 1.7663, 1.7663, 1.7642, 1.7642, 1.762, 1.762, 1.809, 1.8065, 1.8024, 1.8015, 1.7994, 1.7987, 1.7987, 1.7965, 1.7957, 1.7944, 1.794, 1.7913, 1.79, 1.7878, 1.7869, 1.786, 1.784, 1.7829, 1.7804, 1.7804, 1.779, 1.7775, 1.7739, 1.7739, 1.7739, 1.7739, 1.7719, 1.7719, 1.7719, 1.7697, 1.8422, 1.8403, 1.8376, 1.8358, 1.8315, 1.8296, 1.8272, 1.8266, 1.8258, 1.8251, 1.8251, 1.8251, 1.8225, 1.8215, 1.8204, 1.8193, 1.8152, 1.8152, 1.8118, 1.8118, 1.8118, 1.8118, 1.8099, 1.8099, 1.8099, 1.8099, 1.8077, 1.8077, 1.8077, 1.8026]}, \"token.table\": {\"Topic\": [1, 3, 4, 6, 1, 1, 6, 5, 6, 2, 5, 4, 1, 6, 6, 6, 5, 1, 5, 4, 6, 6, 6, 2, 4, 3, 2, 4, 6, 3, 5, 6, 1, 4, 4, 3, 5, 5, 2, 3, 4, 6, 4, 2, 5, 6, 3, 3, 2, 5, 1, 1, 3, 1, 4, 4, 2, 6, 5, 4, 3, 5, 5, 4, 3, 1, 1, 4, 1, 5, 5, 3, 5, 1, 2, 3, 1, 6, 4, 1, 2, 1, 2, 3, 2, 3, 5, 1, 4, 4, 3, 6, 3, 3, 5, 6, 5, 2, 5, 5, 2, 4, 5, 1, 4, 2, 2, 4, 2, 6, 3, 3, 6, 1, 2, 5, 5, 2, 2, 6, 2, 1, 3, 4, 3, 3, 2, 1, 1, 3, 5, 2, 3, 3, 2, 4, 5, 3, 1, 3, 4, 3, 1, 2, 2, 6, 6, 1, 4, 1, 2, 6, 6, 6, 6, 4, 4, 2, 5, 1, 6, 4, 5, 2, 2, 3, 2, 3, 4, 5, 3, 4, 6, 6, 6, 5, 4, 1, 5, 1, 4, 1], \"Freq\": [0.9332961074826968, 0.9660362768514172, 0.9743224106546539, 0.9681144513717487, 0.9604627860810299, 0.9951273091992017, 0.9893401161282083, 0.954239690174375, 0.9643201892438871, 0.9486838713343434, 0.9679591276379681, 0.9858646643526868, 0.9221180651882309, 0.96694020107507, 0.9555815229657787, 0.9737488049665366, 0.9385565101256309, 0.9704298685162853, 0.9603376033075647, 0.96046994980234, 0.944878416812979, 0.9595339289585053, 0.9720986886759082, 0.9654125848142024, 0.944636219256837, 0.968525868210784, 0.972009361688529, 0.9742101088957684, 0.9533081347992434, 0.968525868210784, 0.9802765892709723, 0.9711961583635116, 0.9487205542612498, 0.9874243263235709, 0.9604699498023399, 0.9605440078864396, 0.9701716478189035, 0.991590935902644, 0.9830007488656892, 0.9391497290667282, 0.9846794591326818, 0.9765406473611983, 0.9814060470007363, 0.9830007488656889, 0.9542396901743749, 0.9555815229657786, 0.9969542161350156, 0.9861749316359615, 0.983000748865689, 0.9936746617637359, 0.9727594120694454, 0.9332961074826968, 0.9944875578761221, 0.9982352894820945, 0.9491346927444538, 0.9396876650288107, 0.9486838713343436, 0.9729480495421537, 0.9910296996107427, 0.9771616483996944, 0.966036276851417, 0.9918115858434484, 0.9385565101256309, 0.9342179258682627, 0.9575404398699768, 0.9332961074826975, 0.9678768030195084, 0.975717967833655, 0.9931010307107484, 0.980276589270972, 0.9875529103726213, 0.9811402185502065, 0.9470804835030987, 0.9769410984747896, 0.9652702754354149, 0.9783182881441017, 0.9604627860810302, 0.9711961583635117, 0.9903036384445263, 0.9332961074826965, 0.9705410288267132, 0.9743865715117874, 0.9806746310563126, 0.9880233673407226, 0.9705410288267134, 0.9453340397233623, 0.9886918879340816, 0.9604627860810302, 0.949134692744454, 0.9785451626089828, 0.9685258682107839, 0.9555815229657787, 0.9391497290667282, 0.9935493813384422, 0.9385565101256309, 0.9507948011869981, 0.9809341014032924, 0.9750727469182736, 0.9336546798526911, 0.9630596868723337, 0.9847119989537398, 0.9824700219644387, 0.9777568149738356, 0.9332961074826961, 0.9771616483996944, 0.9779560267739612, 0.9834839217458485, 0.9604699498023398, 0.9830007488656893, 0.9656788053405494, 0.9873415590994817, 0.9919289297669831, 0.9533081347992437, 0.9417254246518877, 0.9486838713343434, 0.9722458117551662, 0.9831860446933518, 0.990155524564271, 0.9652702754354149, 0.9860767976623805, 0.9830007488656889, 0.9668179768443215, 0.9956898167598374, 0.9786509117089573, 0.9508999830116488, 0.9731907386115493, 0.9773792902297873, 0.9935206769929397, 0.9951273091992017, 0.9391497290667281, 0.9941454838117741, 0.9615523714939646, 0.9646941025590081, 0.9633709061364086, 0.9937714589247251, 0.9674429460938644, 0.9336546798526909, 0.9884267885114625, 0.933296107482697, 0.9633709061364085, 0.9604699498023399, 0.9773642053440063, 0.9523098051125786, 0.9866043794076148, 0.9830007488656892, 0.9533081347992437, 0.9595339289585051, 0.9825398964023537, 0.9396876650288104, 0.9927852018969325, 0.9770290571577842, 0.9507948011869981, 0.9555815229657787, 0.9839524394199016, 0.9788124629655036, 0.9446362192568363, 0.9914638711238242, 0.9575690707474742, 0.9958433201241479, 0.9604627860810296, 0.9507948011869982, 0.9342179258682629, 0.9828385453129148, 0.9486838713343437, 0.9866043794076148, 0.9905973387413552, 0.9863289413475196, 0.9849917152806532, 0.9666268356469316, 0.9336546798526909, 0.9783182881441017, 0.992544806618022, 0.9916145235545747, 0.9711961583635116, 0.9533081347992434, 0.9385565101256307, 0.9806183503349787, 0.9889996689657918, 0.9508093430340118, 0.9847149257106345, 0.9674429460938644, 0.9878695629030304], \"Term\": [\"acceler\", \"access\", \"achiev\", \"activ\", \"addit\", \"africa\", \"african\", \"agreement\", \"aim\", \"allow\", \"applic\", \"area\", \"art\", \"base\", \"benefit\", \"bid\", \"bidder\", \"busi\", \"capac\", \"cape\", \"carbon\", \"chain\", \"challeng\", \"chang\", \"clean\", \"climat\", \"close\", \"coal\", \"collabor\", \"commit\", \"commun\", \"compani\", \"competit\", \"construct\", \"content\", \"continu\", \"contribut\", \"cooki\", \"copyright\", \"council\", \"countri\", \"creat\", \"csir\", \"custom\", \"depart\", \"design\", \"develop\", \"econom\", \"economi\", \"edp\", \"electr\", \"emiss\", \"enel\", \"energi\", \"energia\", \"engag\", \"engin\", \"ensur\", \"eskom\", \"experi\", \"facil\", \"farm\", \"featur\", \"financ\", \"financi\", \"follow\", \"foundat\", \"futur\", \"gener\", \"global\", \"govern\", \"green\", \"grid\", \"group\", \"growth\", \"help\", \"hold\", \"impact\", \"implement\", \"import\", \"improv\", \"includ\", \"independ\", \"industri\", \"inform\", \"initi\", \"innov\", \"integr\", \"intern\", \"invest\", \"ipp\", \"irp\", \"issu\", \"job\", \"join\", \"key\", \"lead\", \"local\", \"look\", \"make\", \"manag\", \"market\", \"media\", \"model\", \"nation\", \"need\", \"new\", \"offer\", \"onlin\", \"open\", \"oper\", \"opportun\", \"organis\", \"para\", \"partner\", \"peopl\", \"plan\", \"plant\", \"pleas\", \"polici\", \"posit\", \"potenti\", \"power\", \"privaci\", \"process\", \"procur\", \"produc\", \"programm\", \"project\", \"propos\", \"provid\", \"public\", \"region\", \"reipppp\", \"renew\", \"report\", \"repv\", \"requir\", \"resafrica\", \"research\", \"reserv\", \"resourc\", \"result\", \"right\", \"role\", \"round\", \"said\", \"sasol\", \"scienc\", \"sector\", \"servic\", \"set\", \"share\", \"site\", \"social\", \"socioeconom\", \"solar\", \"solut\", \"south\", \"stakehold\", \"state\", \"station\", \"storag\", \"studi\", \"suppli\", \"support\", \"sustain\", \"technolog\", \"term\", \"time\", \"transform\", \"transit\", \"use\", \"valu\", \"want\", \"way\", \"websit\", \"wind\", \"window\", \"work\", \"world\", \"year\"]}, \"R\": 30, \"lambda.step\": 0.01, \"plot.opts\": {\"xlab\": \"PC1\", \"ylab\": \"PC2\"}, \"topic.order\": [6, 3, 5, 1, 2, 4]};\n",
       "\n",
       "function LDAvis_load_lib(url, callback){\n",
       "  var s = document.createElement('script');\n",
       "  s.src = url;\n",
       "  s.async = true;\n",
       "  s.onreadystatechange = s.onload = callback;\n",
       "  s.onerror = function(){console.warn(\"failed to load library \" + url);};\n",
       "  document.getElementsByTagName(\"head\")[0].appendChild(s);\n",
       "}\n",
       "\n",
       "if(typeof(LDAvis) !== \"undefined\"){\n",
       "   // already loaded: just create the visualization\n",
       "   !function(LDAvis){\n",
       "       new LDAvis(\"#\" + \"ldavis_el271364254221666082781358854\", ldavis_el271364254221666082781358854_data);\n",
       "   }(LDAvis);\n",
       "}else if(typeof define === \"function\" && define.amd){\n",
       "   // require.js is available: use it to load d3/LDAvis\n",
       "   require.config({paths: {d3: \"https://d3js.org/d3.v5\"}});\n",
       "   require([\"d3\"], function(d3){\n",
       "      window.d3 = d3;\n",
       "      LDAvis_load_lib(\"https://cdn.jsdelivr.net/gh/bmabey/pyLDAvis@3.2.2/pyLDAvis/js/ldavis.v3.0.0.js\", function(){\n",
       "        new LDAvis(\"#\" + \"ldavis_el271364254221666082781358854\", ldavis_el271364254221666082781358854_data);\n",
       "      });\n",
       "    });\n",
       "}else{\n",
       "    // require.js not available: dynamically load d3 & LDAvis\n",
       "    LDAvis_load_lib(\"https://d3js.org/d3.v5.js\", function(){\n",
       "         LDAvis_load_lib(\"https://cdn.jsdelivr.net/gh/bmabey/pyLDAvis@3.2.2/pyLDAvis/js/ldavis.v3.0.0.js\", function(){\n",
       "                 new LDAvis(\"#\" + \"ldavis_el271364254221666082781358854\", ldavis_el271364254221666082781358854_data);\n",
       "            })\n",
       "         });\n",
       "}\n",
       "</script>"
      ],
      "text/plain": [
       "PreparedData(topic_coordinates=               x          y  topics  cluster       Freq\n",
       "topic                                                  \n",
       "5       1.465019 -47.625065       1        1  17.936086\n",
       "2      54.854797 -36.476795       2        1  16.950984\n",
       "4      32.212929 -61.444572       3        1  16.654655\n",
       "0       5.111096 -14.110332       4        1  16.426397\n",
       "1      26.350170 -33.374702       5        1  16.306263\n",
       "3      38.109818  -7.222781       6        1  15.725615, topic_info=        Term        Freq       Total Category  logprob  loglift\n",
       "219   energi  421.000000  421.000000  Default  30.0000  30.0000\n",
       "551    renew  189.000000  189.000000  Default  29.0000  29.0000\n",
       "620    south  171.000000  171.000000  Default  28.0000  28.0000\n",
       "180  develop  167.000000  167.000000  Default  27.0000  27.0000\n",
       "487    power  147.000000  147.000000  Default  26.0000  26.0000\n",
       "..       ...         ...         ...      ...      ...      ...\n",
       "447  organis   19.148766   19.930597   Topic6  -4.6302   1.8099\n",
       "600      set   18.149698   18.931530   Topic6  -4.6838   1.8077\n",
       "350      key   18.149698   18.931530   Topic6  -4.6838   1.8077\n",
       "629    state   18.149698   18.931530   Topic6  -4.6838   1.8077\n",
       "84    carbon   16.151564   16.933396   Topic6  -4.8005   1.8026\n",
       "\n",
       "[212 rows x 6 columns], token_table=      Topic      Freq     Term\n",
       "term                          \n",
       "1         1  0.933296  acceler\n",
       "3         3  0.966036   access\n",
       "5         4  0.974322   achiev\n",
       "8         6  0.968114    activ\n",
       "9         1  0.960463    addit\n",
       "...     ...       ...      ...\n",
       "705       1  0.989000     wind\n",
       "707       5  0.950809   window\n",
       "710       1  0.984715     work\n",
       "711       4  0.967443    world\n",
       "712       1  0.987870     year\n",
       "\n",
       "[182 rows x 3 columns], R=30, lambda_step=0.01, plot_opts={'xlab': 'PC1', 'ylab': 'PC2'}, topic_order=[6, 3, 5, 1, 2, 4])"
      ]
     },
     "execution_count": 112,
     "metadata": {},
     "output_type": "execute_result"
    }
   ],
   "source": [
    "\n",
    "\n",
    "# Assign TfidfVectorizer object to \"vectorizer\" variable\n",
    "vectorizer = count_vectorizer\n",
    "\n",
    "# Visualisation des résultats\n",
    "pyLDAvis.enable_notebook()\n",
    "panel = pyLDAvis.sklearn.prepare(lda_model_group, data_vectorized, vectorizer, mds='tsne')\n",
    "panel\n",
    "#plt.show()"
   ]
  },
  {
   "cell_type": "markdown",
   "metadata": {},
   "source": [
    "# Choose number of component k=2"
   ]
  },
  {
   "cell_type": "code",
   "execution_count": 113,
   "metadata": {
    "execution": {
     "iopub.execute_input": "2023-05-13T03:01:09.778511Z",
     "iopub.status.busy": "2023-05-13T03:01:09.777982Z",
     "iopub.status.idle": "2023-05-13T03:10:02.542589Z",
     "shell.execute_reply": "2023-05-13T03:10:02.540949Z",
     "shell.execute_reply.started": "2023-05-13T03:01:09.778470Z"
    }
   },
   "outputs": [
    {
     "data": {
      "text/html": [
       "\n",
       "<link rel=\"stylesheet\" type=\"text/css\" href=\"https://cdn.jsdelivr.net/gh/bmabey/pyLDAvis@3.2.2/pyLDAvis/js/ldavis.v1.0.0.css\">\n",
       "\n",
       "\n",
       "<div id=\"ldavis_el271364254221667363424544526\"></div>\n",
       "<script type=\"text/javascript\">\n",
       "\n",
       "var ldavis_el271364254221667363424544526_data = {\"mdsDat\": {\"x\": [-60.31231689453125, 60.31256103515625], \"y\": [141.36962890625, -141.369140625], \"topics\": [1, 2], \"cluster\": [1, 1], \"Freq\": [51.8535255344102, 48.1464744655898]}, \"tinfo\": {\"Term\": [\"energi\", \"renew\", \"south\", \"develop\", \"transit\", \"project\", \"power\", \"solar\", \"africa\", \"enel\", \"wind\", \"cooki\", \"use\", \"industri\", \"manag\", \"sector\", \"african\", \"csir\", \"support\", \"work\", \"programm\", \"sasol\", \"sustain\", \"oper\", \"provid\", \"new\", \"eskom\", \"site\", \"job\", \"polici\", \"energi\", \"renew\", \"south\", \"develop\", \"power\", \"africa\", \"wind\", \"cooki\", \"use\", \"african\", \"support\", \"programm\", \"provid\", \"new\", \"eskom\", \"job\", \"polici\", \"technolog\", \"plan\", \"servic\", \"commun\", \"global\", \"includ\", \"year\", \"opportun\", \"edp\", \"farm\", \"electr\", \"social\", \"innov\", \"transit\", \"project\", \"solar\", \"enel\", \"industri\", \"manag\", \"sector\", \"csir\", \"work\", \"sasol\", \"sustain\", \"oper\", \"site\", \"countri\", \"gener\", \"invest\", \"experi\", \"nation\", \"futur\", \"coal\", \"produc\", \"econom\", \"green\", \"improv\", \"world\", \"report\", \"creat\", \"implement\", \"construct\", \"area\"], \"Freq\": [434.0, 186.0, 163.0, 162.0, 140.0, 137.0, 143.0, 117.0, 128.0, 99.0, 107.0, 105.0, 93.0, 75.0, 71.0, 67.0, 75.0, 65.0, 73.0, 63.0, 71.0, 62.0, 60.0, 59.0, 66.0, 66.0, 62.0, 54.0, 61.0, 58.0, 433.966450510954, 185.57993470498087, 162.66604789450665, 161.74949240076882, 142.5018268218356, 127.83693820375832, 106.75615949064556, 104.9230482068757, 93.00782427449494, 74.67670796174818, 72.84359608106287, 71.01048414126899, 66.42770400035161, 65.51114791674092, 61.84492336524173, 60.92836717431653, 58.17869843303203, 53.59591659328466, 52.67936012034646, 50.846247054775695, 49.929690457308816, 49.92969045718821, 48.09657712116679, 45.34690672045587, 44.43034980102121, 43.51379281582969, 41.68067863084942, 40.764121420708435, 38.93100673914543, 38.93100673887708, 139.54425807845706, 136.60611265751575, 117.01847607863617, 99.38960234584627, 74.90505311504505, 70.98752481532414, 67.06999634544019, 65.11123204104082, 63.152467670715076, 62.17308546402619, 60.21432100469132, 59.23493874489632, 54.33802716012177, 51.39987993239654, 50.42049746725085, 46.502967285290275, 45.523584649080576, 45.523584649063835, 44.544201971777404, 43.56481925076751, 43.564819250641804, 43.56481925061437, 40.6266707921492, 40.626670792144715, 39.64728786206875, 39.64728786203021, 37.68852180972896, 37.688521809726296, 35.72975546635428, 34.750372170111504], \"Total\": [434.0, 186.0, 163.0, 162.0, 140.0, 137.0, 143.0, 117.0, 128.0, 99.0, 107.0, 105.0, 93.0, 75.0, 71.0, 67.0, 75.0, 65.0, 73.0, 63.0, 71.0, 62.0, 60.0, 59.0, 66.0, 66.0, 62.0, 54.0, 61.0, 58.0, 434.4802022556118, 186.09369756980945, 163.1798134825894, 162.26325812056186, 143.01559553240966, 128.35070978920464, 107.26993662414557, 105.4368259204004, 93.52160638635367, 75.19049958710337, 73.3573889242745, 71.5242782654973, 66.94150163853082, 66.02494631693682, 62.358725045439314, 61.44216973120134, 58.69250380003803, 54.10972728951981, 53.193171994612754, 51.36006141300319, 50.44350612663207, 50.44350612664033, 48.61039556356913, 45.8607297461531, 44.944174481851626, 44.02761922205757, 42.19450871717919, 41.27795347280454, 39.44484300196502, 39.44484300198343, 140.01903961619715, 137.0808944767659, 117.49326018571155, 99.86438927168668, 75.37984618288539, 71.46231926155546, 67.54479232930974, 65.58602885873131, 63.62726538392373, 62.64788364513903, 60.68912016462165, 59.709738422430284, 54.81282969313965, 51.87468443780499, 50.8953026824406, 46.977775640366914, 45.99839387402895, 45.998393874027855, 45.01901210505485, 44.039630333277, 44.039630333268946, 44.03963033326718, 41.10148499898182, 41.101484998981526, 40.12210321379231, 40.12210321378985, 38.16333963108524, 38.163339631085066, 36.20457602970858, 35.225194221030144], \"Category\": [\"Default\", \"Default\", \"Default\", \"Default\", \"Default\", \"Default\", \"Default\", \"Default\", \"Default\", \"Default\", \"Default\", \"Default\", \"Default\", \"Default\", \"Default\", \"Default\", \"Default\", \"Default\", \"Default\", \"Default\", \"Default\", \"Default\", \"Default\", \"Default\", \"Default\", \"Default\", \"Default\", \"Default\", \"Default\", \"Default\", \"Topic1\", \"Topic1\", \"Topic1\", \"Topic1\", \"Topic1\", \"Topic1\", \"Topic1\", \"Topic1\", \"Topic1\", \"Topic1\", \"Topic1\", \"Topic1\", \"Topic1\", \"Topic1\", \"Topic1\", \"Topic1\", \"Topic1\", \"Topic1\", \"Topic1\", \"Topic1\", \"Topic1\", \"Topic1\", \"Topic1\", \"Topic1\", \"Topic1\", \"Topic1\", \"Topic1\", \"Topic1\", \"Topic1\", \"Topic1\", \"Topic2\", \"Topic2\", \"Topic2\", \"Topic2\", \"Topic2\", \"Topic2\", \"Topic2\", \"Topic2\", \"Topic2\", \"Topic2\", \"Topic2\", \"Topic2\", \"Topic2\", \"Topic2\", \"Topic2\", \"Topic2\", \"Topic2\", \"Topic2\", \"Topic2\", \"Topic2\", \"Topic2\", \"Topic2\", \"Topic2\", \"Topic2\", \"Topic2\", \"Topic2\", \"Topic2\", \"Topic2\", \"Topic2\", \"Topic2\"], \"logprob\": [30.0, 29.0, 28.0, 27.0, 26.0, 25.0, 24.0, 23.0, 22.0, 21.0, 20.0, 19.0, 18.0, 17.0, 16.0, 15.0, 14.0, 13.0, 12.0, 11.0, 10.0, 9.0, 8.0, 7.0, 6.0, 5.0, 4.0, 3.0, 2.0, 1.0, -2.7026, -3.5521, -3.6839, -3.6896, -3.8163, -3.9249, -4.1051, -4.1224, -4.2429, -4.4624, -4.4873, -4.5128, -4.5795, -4.5934, -4.651, -4.6659, -4.7121, -4.7941, -4.8114, -4.8468, -4.865, -4.865, -4.9024, -4.9613, -4.9817, -5.0025, -5.0456, -5.0678, -5.1138, -5.1138, -3.7631, -3.7843, -3.9391, -4.1024, -4.3852, -4.4389, -4.4957, -4.5253, -4.5559, -4.5715, -4.6035, -4.6199, -4.7062, -4.7618, -4.781, -4.8619, -4.8832, -4.8832, -4.905, -4.9272, -4.9272, -4.9272, -4.997, -4.997, -5.0214, -5.0214, -5.0721, -5.0721, -5.1255, -5.1533], \"loglift\": [30.0, 29.0, 28.0, 27.0, 26.0, 25.0, 24.0, 23.0, 22.0, 21.0, 20.0, 19.0, 18.0, 17.0, 16.0, 15.0, 14.0, 13.0, 12.0, 11.0, 10.0, 9.0, 8.0, 7.0, 6.0, 5.0, 4.0, 3.0, 2.0, 1.0, 0.6556, 0.654, 0.6536, 0.6536, 0.6531, 0.6527, 0.6519, 0.6519, 0.6512, 0.6499, 0.6497, 0.6495, 0.649, 0.6489, 0.6485, 0.6483, 0.648, 0.6472, 0.647, 0.6467, 0.6465, 0.6465, 0.6461, 0.6455, 0.6452, 0.645, 0.6445, 0.6442, 0.6436, 0.6436, 0.7275, 0.7275, 0.7269, 0.7262, 0.7246, 0.7243, 0.7239, 0.7237, 0.7234, 0.7233, 0.7231, 0.7229, 0.7222, 0.7217, 0.7215, 0.7208, 0.7205, 0.7205, 0.7203, 0.7201, 0.7201, 0.7201, 0.7193, 0.7193, 0.719, 0.719, 0.7184, 0.7184, 0.7177, 0.7174]}, \"token.table\": {\"Topic\": [1, 2, 1, 2, 2, 2, 1, 2, 2, 1, 2, 2, 2, 2, 1, 2, 2, 1, 2, 1, 2, 2, 1, 2, 1, 2, 2, 1, 2, 2, 2, 1, 2, 2, 2, 2, 1, 2, 2, 1, 2, 2, 1, 2, 2, 2, 1, 2, 2, 1, 2, 1, 2, 1, 2, 1, 2, 2, 1, 2, 2, 1, 2, 1, 2, 2, 2, 2, 1, 2, 2, 1, 2, 2, 1, 2, 1, 2, 2, 1, 2, 2, 1, 2, 1, 2, 2, 2, 1, 2], \"Freq\": [0.9972675664218715, 0.007791152862670871, 0.9974664407318814, 0.013299552543091751, 0.9936070126507437, 0.9991001211187039, 0.9912078647840475, 0.01982415729568095, 0.9943494427461127, 0.9958569890871888, 0.009484352277020845, 0.9831385106765577, 0.9957199859167409, 0.9910647302645266, 0.9983775863765397, 0.006162824607262591, 0.9991001211189267, 0.9993726841799402, 0.022713015549544094, 0.9932662971533299, 0.024226007247642192, 0.9913443693193271, 0.9988947660834284, 0.0023016008435102035, 0.994247396091278, 0.01603624832405287, 1.0000349170011338, 0.9953901888399047, 0.023699766400950114, 0.9995776872000105, 0.9824089329416742, 0.9912078647838853, 0.019824157295677707, 0.9975308678266896, 0.9957199859167456, 0.9975308678266968, 0.9874431064283175, 0.02057173138392328, 0.9949609053066544, 0.988722404042499, 0.025351856513910233, 1.0004730824167416, 0.992803481173667, 0.016275466904486342, 0.993530586939624, 1.0000349170011575, 0.9996221683117004, 0.015145790428965158, 0.988113523167543, 0.9789922833662708, 0.0222498246219607, 0.9963684813789199, 0.018799405309036225, 0.9882011542326197, 0.017037950935045166, 0.9998909522255136, 0.006992244421157438, 0.9991001211188867, 0.9926699258180393, 0.013981266560817454, 0.9994098778164917, 0.9859354568468642, 0.014938416012831277, 0.9994965032613514, 0.005373637114308341, 0.9969567095438835, 0.9896583314959387, 0.9919343548107507, 0.9929894668523113, 0.019470381702986497, 0.985170813152867, 0.9887224040429605, 0.025351856513922064, 0.9958018001634146, 0.9988980653994399, 0.006128208990180613, 0.9951281127979701, 0.013631891956136576, 0.9886450790067086, 0.9979721337545705, 0.018480965439899456, 0.9998640212341883, 0.9944226109183922, 0.010692716246434326, 0.9974835761757613, 0.009322276412857582, 0.9901415630525869, 0.9969567095438224, 0.981231660487799, 0.021805148010839978], \"Term\": [\"africa\", \"africa\", \"african\", \"african\", \"area\", \"coal\", \"commun\", \"commun\", \"construct\", \"cooki\", \"cooki\", \"countri\", \"creat\", \"csir\", \"develop\", \"develop\", \"econom\", \"edp\", \"edp\", \"electr\", \"electr\", \"enel\", \"energi\", \"energi\", \"eskom\", \"eskom\", \"experi\", \"farm\", \"farm\", \"futur\", \"gener\", \"global\", \"global\", \"green\", \"implement\", \"improv\", \"includ\", \"includ\", \"industri\", \"innov\", \"innov\", \"invest\", \"job\", \"job\", \"manag\", \"nation\", \"new\", \"new\", \"oper\", \"opportun\", \"opportun\", \"plan\", \"plan\", \"polici\", \"polici\", \"power\", \"power\", \"produc\", \"programm\", \"programm\", \"project\", \"provid\", \"provid\", \"renew\", \"renew\", \"report\", \"sasol\", \"sector\", \"servic\", \"servic\", \"site\", \"social\", \"social\", \"solar\", \"south\", \"south\", \"support\", \"support\", \"sustain\", \"technolog\", \"technolog\", \"transit\", \"use\", \"use\", \"wind\", \"wind\", \"work\", \"world\", \"year\", \"year\"]}, \"R\": 30, \"lambda.step\": 0.01, \"plot.opts\": {\"xlab\": \"PC1\", \"ylab\": \"PC2\"}, \"topic.order\": [2, 1]};\n",
       "\n",
       "function LDAvis_load_lib(url, callback){\n",
       "  var s = document.createElement('script');\n",
       "  s.src = url;\n",
       "  s.async = true;\n",
       "  s.onreadystatechange = s.onload = callback;\n",
       "  s.onerror = function(){console.warn(\"failed to load library \" + url);};\n",
       "  document.getElementsByTagName(\"head\")[0].appendChild(s);\n",
       "}\n",
       "\n",
       "if(typeof(LDAvis) !== \"undefined\"){\n",
       "   // already loaded: just create the visualization\n",
       "   !function(LDAvis){\n",
       "       new LDAvis(\"#\" + \"ldavis_el271364254221667363424544526\", ldavis_el271364254221667363424544526_data);\n",
       "   }(LDAvis);\n",
       "}else if(typeof define === \"function\" && define.amd){\n",
       "   // require.js is available: use it to load d3/LDAvis\n",
       "   require.config({paths: {d3: \"https://d3js.org/d3.v5\"}});\n",
       "   require([\"d3\"], function(d3){\n",
       "      window.d3 = d3;\n",
       "      LDAvis_load_lib(\"https://cdn.jsdelivr.net/gh/bmabey/pyLDAvis@3.2.2/pyLDAvis/js/ldavis.v3.0.0.js\", function(){\n",
       "        new LDAvis(\"#\" + \"ldavis_el271364254221667363424544526\", ldavis_el271364254221667363424544526_data);\n",
       "      });\n",
       "    });\n",
       "}else{\n",
       "    // require.js not available: dynamically load d3 & LDAvis\n",
       "    LDAvis_load_lib(\"https://d3js.org/d3.v5.js\", function(){\n",
       "         LDAvis_load_lib(\"https://cdn.jsdelivr.net/gh/bmabey/pyLDAvis@3.2.2/pyLDAvis/js/ldavis.v3.0.0.js\", function(){\n",
       "                 new LDAvis(\"#\" + \"ldavis_el271364254221667363424544526\", ldavis_el271364254221667363424544526_data);\n",
       "            })\n",
       "         });\n",
       "}\n",
       "</script>"
      ],
      "text/plain": [
       "PreparedData(topic_coordinates=               x           y  topics  cluster       Freq\n",
       "topic                                                   \n",
       "1     -60.312317  141.369629       1        1  51.853526\n",
       "0      60.312561 -141.369141       2        1  48.146474, topic_info=          Term        Freq       Total Category  logprob  loglift\n",
       "219     energi  434.000000  434.000000  Default  30.0000  30.0000\n",
       "551      renew  186.000000  186.000000  Default  29.0000  29.0000\n",
       "620      south  163.000000  163.000000  Default  28.0000  28.0000\n",
       "180    develop  162.000000  162.000000  Default  27.0000  27.0000\n",
       "674    transit  140.000000  140.000000  Default  26.0000  26.0000\n",
       "..         ...         ...         ...      ...      ...      ...\n",
       "553     report   39.647288   40.122103   Topic2  -5.0214   0.7190\n",
       "156      creat   37.688522   38.163340   Topic2  -5.0721   0.7184\n",
       "316  implement   37.688522   38.163340   Topic2  -5.0721   0.7184\n",
       "134  construct   35.729755   36.204576   Topic2  -5.1255   0.7177\n",
       "41        area   34.750372   35.225194   Topic2  -5.1533   0.7174\n",
       "\n",
       "[90 rows x 6 columns], token_table=      Topic      Freq     Term\n",
       "term                          \n",
       "15        1  0.997268   africa\n",
       "15        2  0.007791   africa\n",
       "16        1  0.997466  african\n",
       "16        2  0.013300  african\n",
       "41        2  0.993607     area\n",
       "...     ...       ...      ...\n",
       "705       2  0.009322     wind\n",
       "710       2  0.990142     work\n",
       "711       2  0.996957    world\n",
       "712       1  0.981232     year\n",
       "712       2  0.021805     year\n",
       "\n",
       "[90 rows x 3 columns], R=30, lambda_step=0.01, plot_opts={'xlab': 'PC1', 'ylab': 'PC2'}, topic_order=[2, 1])"
      ]
     },
     "execution_count": 113,
     "metadata": {},
     "output_type": "execute_result"
    }
   ],
   "source": [
    "lda_model_group2 = LatentDirichletAllocation(n_components=2, max_iter=500, random_state=42)\n",
    "\n",
    "# Entraînement du modèle LDA\n",
    "lda_output_group2 = lda_model_group2.fit_transform(data_vectorized)\n",
    "\n",
    "# Assign TfidfVectorizer object to \"vectorizer\" variable\n",
    "vectorizer = count_vectorizer\n",
    "\n",
    "# Visualisation des résultats\n",
    "pyLDAvis.enable_notebook()\n",
    "panel = pyLDAvis.sklearn.prepare(lda_model_group2, data_vectorized, vectorizer, mds='tsne')\n",
    "panel\n",
    "#plt.show()"
   ]
  }
 ],
 "metadata": {
  "kernelspec": {
   "display_name": "Python 3",
   "language": "python",
   "name": "python3"
  },
  "language_info": {
   "codemirror_mode": {
    "name": "ipython",
    "version": 3
   },
   "file_extension": ".py",
   "mimetype": "text/x-python",
   "name": "python",
   "nbconvert_exporter": "python",
   "pygments_lexer": "ipython3",
   "version": "3.9.2"
  }
 },
 "nbformat": 4,
 "nbformat_minor": 4
}
